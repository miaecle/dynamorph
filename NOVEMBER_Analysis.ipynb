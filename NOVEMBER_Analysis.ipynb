{
 "cells": [
  {
   "cell_type": "code",
   "execution_count": 53,
   "metadata": {},
   "outputs": [],
   "source": [
    "import numpy as np\n",
    "import pandas as pd\n",
    "import pickle\n",
    "import os\n",
    "import cv2\n",
    "import imageio\n",
    "import matplotlib\n",
    "import matplotlib.pyplot as plt\n",
    "from matplotlib.colors import ListedColormap\n",
    "import seaborn as sns\n",
    "import torch\n",
    "import cmath\n",
    "from run_VAE import sites_NOVEMBER, RAW_NOVEMBER, INTERMEDIATE_NOVEMBER\n",
    "from HiddenStateExtractor.cv2_feature import get_density, get_angle_apr, get_aspect_ratio_no_rotation\n",
    "from HiddenStateExtractor.vq_vae import VQ_VAE, rescale"
   ]
  },
  {
   "cell_type": "code",
   "execution_count": 2,
   "metadata": {},
   "outputs": [],
   "source": [
    "RAW_NOVEMBER = '/mnt/comp_micro/Projects/learningCellState/microglia/raw_for_segmentation/NOVEMBER/raw'\n",
    "INTERMEDIATE_NOVEMBER = '/mnt/comp_micro/Projects/learningCellState/microglia/raw_for_segmentation/NOVEMBER/supp'"
   ]
  },
  {
   "cell_type": "code",
   "execution_count": 2,
   "metadata": {},
   "outputs": [],
   "source": [
    "plt.switch_backend('module://ipykernel.pylab.backend_inline')"
   ]
  },
  {
   "cell_type": "code",
   "execution_count": 54,
   "metadata": {},
   "outputs": [],
   "source": [
    "### Define Extra Functions ###\n",
    "\n",
    "phase_a = 2.\n",
    "phase_b = -50000.\n",
    "\n",
    "sites = sites_NOVEMBER\n",
    "# {'B4', 'B5', 'C4', 'B2', 'C5'}\n",
    "wells = {'B4', 'B5', 'B2', 'C5', 'C4'}\n",
    "wells_ = {'B4', 'B5', 'B2', 'C5'}\n",
    "raw_folder = RAW_NOVEMBER\n",
    "supp_folder = INTERMEDIATE_NOVEMBER\n",
    "\n",
    "legends = {\n",
    "    'B2': 'GBM',\n",
    "    'B4': 'IL17',\n",
    "    'B5': 'IFN beta',\n",
    "    'C4': 'Rubella',\n",
    "    'C5': 'Control'\n",
    "}\n",
    "\n",
    "def hex_to_rgb(s):\n",
    "    s = s.lstrip('#')\n",
    "    s = list(int(s[i:i+2], 16)/256. for i in (0, 2, 4)) + [1.] # hex to rgb\n",
    "    return s\n",
    "\n",
    "def rgb_to_hex(rgb):\n",
    "    return '#%02x%02x%02x' % rgb\n",
    "\n",
    "def generate_color_vectors(start, end, N=256):\n",
    "    start = hex_to_rgb(start)\n",
    "    end = hex_to_rgb(end)\n",
    "    output = np.zeros((N, 4))\n",
    "    for i in range(4):\n",
    "        output[:, i] = np.linspace(start[i], end[i], N)\n",
    "    return output\n",
    "\n",
    "cmaps = {\n",
    "    'B2': ListedColormap(generate_color_vectors('#ffffff', '#438548')),\n",
    "    'B4': ListedColormap(generate_color_vectors('#ffffff', '#ce103d')),\n",
    "    'B5': ListedColormap(generate_color_vectors('#ffffff', '#d44d00')),\n",
    "    'C4': ListedColormap(generate_color_vectors('#ffffff', '#f0ba00')),\n",
    "    'C5': ListedColormap(generate_color_vectors('#ffffff', '#005082')),\n",
    "    'all': ListedColormap(generate_color_vectors('#ffffff', '#111111'))\n",
    "}\n",
    "\n",
    "colors = {w: cmaps[w](0.8) for w in cmaps}\n",
    "\n",
    "def enhance_contrast(mat, a=1.5, b=-10000):\n",
    "  mat2 = cv2.addWeighted(mat, a, mat, 0, b)\n",
    "  return mat2\n",
    "\n",
    "def save_movie(traj, path):\n",
    "  well = traj[:2]\n",
    "  site = traj.split('/')[0]\n",
    "  stacks = []\n",
    "  for ind in traj_inds[traj]:\n",
    "    f = fs[well][ind]\n",
    "    p = os.path.join(supp_folder, '%s-supps' % well, '%s' % site, 'stacks_%s.pkl' % f.split('/')[-1].split('_')[0])\n",
    "    mat = pickle.load(open(p, 'rb'))[f]['mat'][:, :, 0]\n",
    "    mat2 = np.clip(enhance_contrast(mat, phase_a, phase_b), 0, 65535).astype('uint16')\n",
    "    stacks.append(mat2)\n",
    "  output = (np.stack(stacks, 0).astype('float')/256).astype('uint8')\n",
    "  imageio.mimsave(path, output)\n",
    "\n",
    "def save_traj_bbox(traj, path):\n",
    "  output_images = np.zeros((len(traj_inds[traj]), 512, 512))\n",
    "  site = traj.split('/')[0]\n",
    "  image_stack = np.load(os.path.join(raw_folder, '%s.npy' % site))\n",
    "  for i, k in enumerate(sorted(trajs[traj].keys())):\n",
    "    mat = cv2.resize(image_stack[k, :, :, 0], (512, 512))\n",
    "    output_images[i] = np.clip(enhance_contrast(mat, phase_a, phase_b), 0, 65535).astype('uint16')\n",
    "\n",
    "  output_images = np.stack([output_images] * 3, 3)\n",
    "  output_images = output_images / 65535.\n",
    "\n",
    "  for i, k in enumerate(sorted(trajs[traj].keys())):\n",
    "    box_center = traj_positions[traj][k] / (2048/512)\n",
    "    box_range = [(max(box_center[0] - 16., 0), min(box_center[0] + 16., 512)),\n",
    "                 (max(box_center[1] - 16., 0), min(box_center[1] + 16., 512))]\n",
    "    \n",
    "    # Left edge\n",
    "    x = box_range[0][0]\n",
    "    x_ = (int(max(x - 1., 0)), int(min(x + 1., 512)))\n",
    "    output_images[i, x_[0]:x_[1], int(box_range[1][0]):int(box_range[1][1])] = np.array([1., 0., 0.]).reshape((1, 1, 3))\n",
    "    # Right edge\n",
    "    x = box_range[0][1]\n",
    "    x_ = (int(max(x - 1., 0)), int(min(x + 1., 512)))\n",
    "    output_images[i, x_[0]:x_[1], int(box_range[1][0]):int(box_range[1][1])] = np.array([1., 0., 0.]).reshape((1, 1, 3))\n",
    "    # Top edge\n",
    "    y = box_range[1][0]\n",
    "    y_ = (int(max(y - 1., 0)), int(min(y + 1., 512)))\n",
    "    output_images[i, int(box_range[0][0]):int(box_range[0][1]), y_[0]:y_[1]] = np.array([1., 0., 0.]).reshape((1, 1, 3))\n",
    "    # Bottom edge\n",
    "    y = box_range[1][1]\n",
    "    y_ = (int(max(y - 1., 0)), int(min(y + 1., 512)))\n",
    "    output_images[i, int(box_range[0][0]):int(box_range[0][1]), y_[0]:y_[1]] = np.array([1., 0., 0.]).reshape((1, 1, 3))\n",
    "  # tifffile.imwrite(path, (output_images*255).astype('uint8'))\n",
    "  imageio.mimwrite(path, (output_images*255).astype('uint8'))\n",
    "  return\n",
    "\n",
    "def plot_joint_density(x, y, df, bins_x, bins_y, cmap='Blues'):\n",
    "    g = sns.JointGrid(x=x, y=y, data=df, ylim=(bins_y[0], bins_y[-1]), xlim=(bins_x[0], bins_x[-1]))\n",
    "    _ = g.ax_marg_x.hist(df[x], bins=bins_x, color=cmap(0.8))\n",
    "    _ = g.ax_marg_y.hist(df[y], bins=bins_y, orientation='horizontal', color=cmap(0.8))\n",
    "    g.plot_joint(plt.hexbin, cmap=cmap, gridsize=len(bins_x))\n",
    "\n",
    "def plot_joint_kde(x, y, df, bins_x, bins_y, cmap='Blues'):\n",
    "    g = sns.JointGrid(x=x, y=y, data=df, ylim=(bins_y[0], bins_y[-1]), xlim=(bins_x[0], bins_x[-1]))\n",
    "    _ = g.ax_marg_x.hist(df[x], bins=bins_x, color=cmap(0.8))\n",
    "    _ = g.ax_marg_y.hist(df[y], bins=bins_y, orientation='horizontal', color=cmap(0.8))\n",
    "    g.plot_joint(sns.kdeplot, cmap=cmap, shade=True)"
   ]
  },
  {
   "cell_type": "code",
   "execution_count": null,
   "metadata": {},
   "outputs": [],
   "source": []
  },
  {
   "cell_type": "code",
   "execution_count": 4,
   "metadata": {},
   "outputs": [],
   "source": [
    "### Load All Data ###\n",
    "# dats = {}\n",
    "# fs = {}\n",
    "# traj_inds = {}\n",
    "# trajs = {}\n",
    "# traj_positions = {}\n",
    "# for well in wells:\n",
    "#     path = os.path.join(raw_folder, '%s_latent_space_PCAed.pkl' % well)\n",
    "#     dats[well] = pickle.load(open(path, 'rb'))\n",
    "    \n",
    "#     path = os.path.join(raw_folder, '%s_file_paths.pkl' % well)\n",
    "#     fs[well] = pickle.load(open(path, 'rb'))\n",
    "\n",
    "#     well_sites = [s for s in sites if s.startswith(well)]\n",
    "#     for site in well_sites:\n",
    "#         print(site)\n",
    "#         path = os.path.join(supp_folder, '%s-supps' % well, '%s' % site, 'cell_traj.pkl')\n",
    "#         cell_trajectories_inds, cell_trajectories_positions = pickle.load(open(path, 'rb'))\n",
    "\n",
    "#         path = os.path.join(supp_folder, '%s-supps' % well, '%s' % site, 'cell_pixel_assignments.pkl')\n",
    "#         cell_pixel_assignments = pickle.load(open(path, 'rb'))\n",
    "\n",
    "#         path = os.path.join(raw_folder, '%s_NNProbabilities.npy' % site)\n",
    "#         segmentation_stack = np.load(path)\n",
    "\n",
    "#         for i, (t, t_pos) in enumerate(zip(cell_trajectories_inds, cell_trajectories_positions)):\n",
    "#             traj_mg_ratios = []\n",
    "#             for t_point in t:\n",
    "#                 cell_id = t[t_point]\n",
    "#                 inds = np.where(cell_pixel_assignments[t_point][1] == cell_id)\n",
    "#                 cell_pixels = cell_pixel_assignments[t_point][0][inds]\n",
    "#                 cell_segmentation = segmentation_stack[t_point][(cell_pixels[:, 0], cell_pixels[:, 1])]\n",
    "#                 mg_ratio = (cell_segmentation[:, 1] > 0.5).sum() / cell_segmentation.shape[0]\n",
    "#                 traj_mg_ratios.append(mg_ratio)\n",
    "#             if np.percentile(traj_mg_ratios, 0.2) > 0.8:\n",
    "#                 # Confirmed as microglia\n",
    "#                 trajs[site + '/%d' % i] = t\n",
    "#                 traj_positions[site + '/%d' % i] = t_pos\n",
    "\n",
    "#     path = os.path.join(raw_folder, '%s_trajectories.pkl' % well)\n",
    "#     well_traj_inds = pickle.load(open(path, 'rb'))\n",
    "#     traj_inds.update({k: v for k, v in well_traj_inds.items() if k in trajs})\n",
    "\n",
    "# with open('NOVEMBER_dat_save.pkl', 'wb') as f:\n",
    "#     pickle.dump([dats, fs, traj_inds, trajs, traj_positions], f)\n",
    "\n",
    "dats, fs, traj_inds, trajs, traj_positions = pickle.load(open('NOVEMBER_dat_save.pkl', 'rb'))"
   ]
  },
  {
   "cell_type": "code",
   "execution_count": null,
   "metadata": {},
   "outputs": [],
   "source": []
  },
  {
   "cell_type": "code",
   "execution_count": null,
   "metadata": {},
   "outputs": [],
   "source": [
    "### Load All RAW Data ###\n",
    "all_patches = {}\n",
    "for well in wells:\n",
    "    print(well)\n",
    "    site_dat = torch.load(os.path.join(raw_folder, '%s_adjusted_static_patches.pt' % well))\n",
    "    site_dat = rescale(site_dat)\n",
    "    for i, f in enumerate(fs[well]):\n",
    "        all_patches[f] = site_dat[i:(i+1)][0]"
   ]
  },
  {
   "cell_type": "code",
   "execution_count": null,
   "metadata": {},
   "outputs": [],
   "source": []
  },
  {
   "cell_type": "code",
   "execution_count": null,
   "metadata": {},
   "outputs": [],
   "source": []
  },
  {
   "cell_type": "code",
   "execution_count": 55,
   "metadata": {},
   "outputs": [],
   "source": [
    "### Process Data and Generate Trajectory Summaries ###\n",
    "\n",
    "t_lag = 1\n",
    "bins_PC1 = np.linspace(-4, 6, 20)\n",
    "bins_PC2 = np.linspace(-3, 8, 20)\n",
    "bins_speed = np.linspace(1.0, 5.2, 20) # Log um/h scale\n",
    "\n",
    "patch_PC1 = {well: dats[well][:, 0] for well in wells}\n",
    "patch_PC2 = {well: dats[well][:, 1] for well in wells}\n",
    "\n",
    "traj_PC1 = {well: [] for well in wells}\n",
    "traj_PC2 = {well: [] for well in wells}\n",
    "traj_speed = {well: [] for well in wells}\n",
    "traj_names = {well: [] for well in wells}\n",
    "for t in trajs:\n",
    "    well = t[:2]\n",
    "    if not well in wells:\n",
    "        continue\n",
    "    traj_names[well].append(t)\n",
    "    traj_PC1[well].append(np.mean([dats[well][ind, 0] for ind in traj_inds[t]]))\n",
    "    traj_PC2[well].append(np.mean([dats[well][ind, 1] for ind in traj_inds[t]]))\n",
    "\n",
    "    t_keys = sorted(trajs[t].keys())\n",
    "    dists = []\n",
    "    for t_point in t_keys:\n",
    "        if (t_point + t_lag) in t_keys:\n",
    "            d = np.linalg.norm(traj_positions[t][t_point+t_lag] - \\\n",
    "                               traj_positions[t][t_point], ord=2)\n",
    "            dists.append(d)    \n",
    "    traj_speed[well].append(np.log(np.mean(dists) * 0.325 / 0.1518)) # Unit of pixel(0.325um) per frame(9.11 min) to um per hour"
   ]
  },
  {
   "cell_type": "code",
   "execution_count": 151,
   "metadata": {},
   "outputs": [],
   "source": []
  },
  {
   "cell_type": "code",
   "execution_count": null,
   "metadata": {},
   "outputs": [],
   "source": []
  },
  {
   "cell_type": "code",
   "execution_count": null,
   "metadata": {},
   "outputs": [],
   "source": []
  },
  {
   "cell_type": "code",
   "execution_count": null,
   "metadata": {},
   "outputs": [],
   "source": []
  },
  {
   "cell_type": "code",
   "execution_count": null,
   "metadata": {},
   "outputs": [],
   "source": [
    "### PCA of traj vectors ###\n",
    "from sklearn.decomposition import PCA\n",
    "ts = sorted(trajs.keys())\n",
    "traj_vectors = np.stack([traj_vector_latent_vector[t] for t in ts], 0)\n",
    "pca = PCA(0.5)\n",
    "pcaed = pca.fit_transform(traj_vectors)\n",
    "\n",
    "well_inds = {w: [] for w in wells}\n",
    "for i,t in enumerate(ts):\n",
    "    well_inds[t[:2]].append(i)\n",
    "for w in well_inds:\n",
    "    well_inds[w] = np.array(well_inds[w])\n",
    "    \n",
    "fig, axs = plt.subplots(3, 2, figsize=(8, 12))\n",
    "\n",
    "axs[-1][-1].hexbin(pcaed[:, 0], \n",
    "                   pcaed[:, 1], \n",
    "                   gridsize=20, \n",
    "                   extent=(-11, 16, -11, 16),\n",
    "                   cmap=cmaps['all'])\n",
    "axs[-1][-1].set_xlim(-11, 16)\n",
    "axs[-1][-1].set_ylim(-12, 16)\n",
    "axs[-1][-1].set_yticks([-10, 0, 10])\n",
    "axs[-1][-1].set_xticks([-10, 0, 10])\n",
    "for i, w in enumerate(sorted(wells)):\n",
    "    axs[i//2][i%2].hexbin(pcaed[:, 0][well_inds[w]], \n",
    "                          pcaed[:, 1][well_inds[w]], \n",
    "                          gridsize=20, \n",
    "                          extent=(-11, 16, -11, 16),\n",
    "                          cmap=cmaps[w])\n",
    "    axs[i//2][i%2].set_xlim(-11, 16)\n",
    "    axs[i//2][i%2].set_ylim(-12, 16)\n",
    "    axs[i//2][i%2].set_yticks([-10, 0, 10])\n",
    "    axs[i//2][i%2].set_xticks([-10, 0, 10])\n",
    "    axs[i//2][i%2].text(-10, 11, legends[w])\n",
    "# plt.show()\n",
    "plt.savefig('traj_vec_rand_samples_pre_pca.png', dpi=300)"
   ]
  },
  {
   "cell_type": "code",
   "execution_count": null,
   "metadata": {},
   "outputs": [],
   "source": []
  },
  {
   "cell_type": "code",
   "execution_count": null,
   "metadata": {},
   "outputs": [],
   "source": []
  },
  {
   "cell_type": "code",
   "execution_count": 7,
   "metadata": {},
   "outputs": [],
   "source": [
    "### Calculate Cell Motion Directions ###\n",
    "\n",
    "cell_aps = pickle.load(open(os.path.join(raw_folder, 'all_patches_cell_aspect_ratios.pkl'), 'rb'))\n",
    "traj_orientations = {}\n",
    "traj_orientations2 = {}\n",
    "traj_orientation_stds = {}\n",
    "patch_orientations = {}\n",
    "patch_displacements = {}\n",
    "t_lag = 1\n",
    "\n",
    "angs1_all = []\n",
    "angs2_all = []\n",
    "ang_diffs_all = []\n",
    "for t in traj_inds:\n",
    "    well = t[:2]\n",
    "    traj_fs = [fs[well][ind] for ind in traj_inds[t]]\n",
    "    t_keys = sorted(trajs[t].keys())\n",
    "    \n",
    "    valid_fs = []\n",
    "    ds = []\n",
    "    d_angs = []\n",
    "    for i, f in enumerate(traj_fs):\n",
    "        t_point = t_keys[i]\n",
    "        if (t_point + t_lag) in t_keys:\n",
    "            d = np.linalg.norm(traj_positions[t][t_point+t_lag] - \\\n",
    "                               traj_positions[t][t_point], ord=2)\n",
    "            d_ang = traj_positions[t][t_point+t_lag] - traj_positions[t][t_point]\n",
    "            d_ang = cmath.polar(complex(d_ang[1], d_ang[0]))[1]\n",
    "            valid_fs.append(f)\n",
    "            ds.append(d)\n",
    "            d_angs.append(d_ang)\n",
    "\n",
    "    traj_cell_aps = [cell_aps[f][0] for f in valid_fs]\n",
    "    traj_cell_angs = [cell_aps[f][1] for f in valid_fs]\n",
    "\n",
    "    angs1 = [a for i, a in enumerate(d_angs) if traj_cell_aps[i] > 1.1] # Orientation of movement, 0 ~ 2pi\n",
    "    angs2 = [a for i, a in enumerate(traj_cell_angs) if traj_cell_aps[i] > 1.1]\n",
    "    angs2 = [a if a > 0 else a + np.pi for a in angs2] # Orientation of cell long axis, 0~pi\n",
    "    angs1_all.extend(angs1)\n",
    "    angs2_all.extend(angs2)\n",
    "    ds = [d for i, d in enumerate(ds) if traj_cell_aps[i] > 1.1]\n",
    "    valid_fs_ = [f for i, f in enumerate(valid_fs) if traj_cell_aps[i] > 1.1]\n",
    "    if len(angs1) <= 2:\n",
    "        continue\n",
    "    \n",
    "    ang_diffs = [(a1 - a2)%(np.pi) for a1, a2 in zip(angs1, angs2)]\n",
    "    #ang_diffs = [a if a < np.pi/2 else a - np.pi for a in ang_diffs]\n",
    "    ang_diffs_all.extend(ang_diffs)\n",
    "    for f, a in zip(valid_fs_, ang_diffs):\n",
    "        patch_orientations[f] = a\n",
    "    for f, d in zip(valid_fs_, ds):\n",
    "        patch_displacements[f] = d\n",
    "    \n",
    "    # Pool angles along the traj\n",
    "    merged_x = sum([d * np.cos(2 * ang) for d, ang in zip(ds, ang_diffs)])\n",
    "    merged_y = sum([d * np.sin(2 * ang) for d, ang in zip(ds, ang_diffs)])\n",
    "    merged_d, merged_ang_diff = cmath.polar(complex(merged_x, merged_y))\n",
    "    \n",
    "    assert np.allclose(merged_d, np.sqrt(merged_x**2 + merged_y**2))\n",
    "    traj_orientations[t] = merged_ang_diff / 2\n",
    "    traj_orientations2[t] = np.arctan(merged_y/merged_x) / 2\n",
    "    traj_orientation_stds[t] = merged_d/sum(ds)\n"
   ]
  },
  {
   "cell_type": "code",
   "execution_count": null,
   "metadata": {},
   "outputs": [],
   "source": []
  },
  {
   "cell_type": "code",
   "execution_count": null,
   "metadata": {},
   "outputs": [],
   "source": [
    "### Calculate Cell Sizes ###\n",
    "cell_sizes = {}\n",
    "for w in wells:\n",
    "    w_fs = fs[w]\n",
    "    \n",
    "    paths = set(os.path.split(f)[0] for f in w_fs)\n",
    "    paths = [os.path.join(path, 'cell_pixel_assignments.pkl') for path in paths]\n",
    "    pixel_assigns = {path: pickle.load(open(path, 'rb')) for path in paths}\n",
    "\n",
    "    for f in w_fs:\n",
    "        path, cell_file = os.path.split(f)\n",
    "        path = os.path.join(path, 'cell_pixel_assignments.pkl')\n",
    "        t_point, cell_id = os.path.splitext(cell_file)[0].split('_')\n",
    "        pixel_assign = pixel_assigns[path]\n",
    "        \n",
    "        cell_pixel_ps, cell_pixel_as = pixel_assign[int(t_point)]\n",
    "        size = np.where(cell_pixel_as == int(cell_id))[0].shape[0]\n",
    "        cell_sizes[f] = size\n",
    "with open(os.path.join(raw_folder, 'all_patches_cell_sizes.pkl'), 'wb') as f:\n",
    "    pickle.dump(cell_sizes, f)\n",
    "\n",
    "### Calculate Cell Peak Intensities. Aspect Ratios ###\n",
    "cell_intensities = {}\n",
    "cell_aprs = {}\n",
    "cell_aprs_nr = {}\n",
    "for site in sites_NOVEMBER:\n",
    "    print(site)\n",
    "    well = site[:2]\n",
    "    paths = [os.path.join(supp_folder, '%s-supps' % well, '%s' % site, 'stacks_%d.pkl' % i) for i in range(159)]\n",
    "    for path in paths:\n",
    "        p_dat = pickle.load(open(path, 'rb'))\n",
    "        for k, v in p_dat.items():\n",
    "            mat = v['masked_mat']\n",
    "            cell_intensities[k] = get_density(mat)\n",
    "            cell_aprs[k] = get_angle_apr(mat)\n",
    "            cell_aprs_nr[k] = get_aspect_ratio_no_rotation(mat)\n",
    "    with open(os.path.join(raw_folder, 'all_patches_cell_intensities.pkl'), 'wb') as f:\n",
    "        pickle.dump(cell_intensities, f)\n",
    "    with open(os.path.join(raw_folder, 'all_patches_cell_aspect_ratios.pkl'), 'wb') as f:\n",
    "        pickle.dump(cell_aprs, f)\n",
    "    with open(os.path.join(raw_folder, 'all_patches_cell_aspect_ratios_nr.pkl'), 'wb') as f:\n",
    "        pickle.dump(cell_aprs_nr, f)"
   ]
  },
  {
   "cell_type": "code",
   "execution_count": null,
   "metadata": {},
   "outputs": [],
   "source": []
  },
  {
   "cell_type": "code",
   "execution_count": null,
   "metadata": {},
   "outputs": [],
   "source": [
    "### Calculate Cell Envs ###\n",
    "cell_envs = {}\n",
    "for w in wells:\n",
    "    w_fs = fs[w]    \n",
    "    \n",
    "    paths = set(os.path.split(f)[0] for f in w_fs)\n",
    "    paths = [os.path.join(path, 'cell_positions.pkl') for path in paths]\n",
    "    cell_nbs = {}\n",
    "    for path in paths:\n",
    "        cell_positions = pickle.load(open(path, 'rb'))\n",
    "        cell_nb = {}\n",
    "        for t_point in cell_positions:\n",
    "            poses = dict(sum(cell_positions[t_point], []))\n",
    "            inds = sorted(poses.keys())\n",
    "            positions = np.array([poses[i] for i in inds])\n",
    "            dist_mat = np.linalg.norm(positions.reshape((-1, 1, 2)) - positions.reshape((1, -1, 2)), ord=2, axis=2)\n",
    "            cell_nb[t_point] = (inds, dist_mat)\n",
    "        cell_nbs[path] = cell_nb\n",
    "\n",
    "    for f in w_fs:\n",
    "        path, cell_file = os.path.split(f)\n",
    "        path = os.path.join(path, 'cell_positions.pkl')\n",
    "        t_point, cell_id = os.path.splitext(cell_file)[0].split('_')\n",
    "        inds, dist_mat = cell_nbs[path][int(t_point)]\n",
    "        neighbors = dist_mat[inds.index(int(cell_id))]\n",
    "        cell_envs[f] = neighbors\n"
   ]
  },
  {
   "cell_type": "code",
   "execution_count": null,
   "metadata": {},
   "outputs": [],
   "source": []
  },
  {
   "cell_type": "code",
   "execution_count": null,
   "metadata": {},
   "outputs": [],
   "source": []
  },
  {
   "cell_type": "code",
   "execution_count": null,
   "metadata": {},
   "outputs": [],
   "source": []
  },
  {
   "cell_type": "code",
   "execution_count": null,
   "metadata": {},
   "outputs": [],
   "source": [
    "### Samples along each PC axis ###\n",
    "slices = []\n",
    "for pc_i in range(4):\n",
    "    PCs = all_dats[:, pc_i]\n",
    "    for i in range(5):\n",
    "        low_thr = np.percentile(PCs, i * 20)\n",
    "        up_thr = np.percentile(PCs, (i+1)* 20)\n",
    "        inds = np.where((PCs > low_thr) & (PCs < up_thr))[0]\n",
    "        inds = np.random.choice(inds, (1000,), replace=False)\n",
    "        fs_selected = [all_fs[i] for i in inds]\n",
    "        samples = [all_patches[f].data.numpy()[0, 0] for f in fs_selected]\n",
    "        avg_slice = np.stack(samples, 0).mean(0)\n",
    "        plt.subplot(5, 5, i+1)\n",
    "        plt.imshow(avg_slice, vmin=0.49, vmax=0.75)\n",
    "        plt.axis('off')\n",
    "    plt.savefig('NOVEMBER_PC%d_trend.png' % (pc_i+1), dpi=1200)"
   ]
  },
  {
   "cell_type": "code",
   "execution_count": null,
   "metadata": {},
   "outputs": [],
   "source": []
  },
  {
   "cell_type": "code",
   "execution_count": null,
   "metadata": {},
   "outputs": [],
   "source": [
    "### Sample input/output ###\n",
    "model = VQ_VAE(alpha=0.0005, gpu=True)\n",
    "model = model.cuda()\n",
    "model.load_state_dict(torch.load('HiddenStateExtractor/save_0005_bkp4.pt'))\n",
    "\n",
    "sample_fs = ['/gpfs/CompMicro/Projects/learningCellState/microglia/raw_for_segmentation/NOVEMBER/supp/B4-supps/B4-Site_2/9_50.h5',\n",
    "             '/gpfs/CompMicro/Projects/learningCellState/microglia/raw_for_segmentation/NOVEMBER/supp/C5-supps/C5-Site_2/23_79.h5',\n",
    "             '/gpfs/CompMicro/Projects/learningCellState/microglia/raw_for_segmentation/NOVEMBER/supp/C5-supps/C5-Site_3/10_34.h5']\n",
    "for i, f in enumerate(sample_fs):\n",
    "    sample = all_patches[f]\n",
    "    output = model(sample.cuda())[0]\n",
    "    inp = sample.cpu().data.numpy()\n",
    "    out = output.cpu().data.numpy()\n",
    "    input_phase = (inp[0, 0] * 65535).astype('uint16')\n",
    "    output_phase = (out[0, 0] * 65535).astype('uint16')\n",
    "    input_retardance = (inp[0, 1] * 65535).astype('uint16')\n",
    "    output_retardance = (out[0, 1] * 65535).astype('uint16')\n",
    "    cv2.imwrite('NOVEMBER_samples_%d_input_phase.png' % i, enhance_contrast(input_phase, 1., -10000)) # Note dataset has been rescaled\n",
    "    cv2.imwrite('NOVEMBER_samples_%d_output_phase.png' % i, enhance_contrast(output_phase, 1., -10000))\n",
    "    cv2.imwrite('NOVEMBER_samples_%d_input_retardance.png' % i, enhance_contrast(input_retardance, 2., 0.))\n",
    "    cv2.imwrite('NOVEMBER_samples_%d_output_retardance.png' % i, enhance_contrast(output_retardance, 2., 0.))"
   ]
  },
  {
   "cell_type": "code",
   "execution_count": null,
   "metadata": {},
   "outputs": [],
   "source": []
  },
  {
   "cell_type": "code",
   "execution_count": null,
   "metadata": {},
   "outputs": [],
   "source": [
    "### PCA plot for fig 3 ###\n",
    "sizes = pickle.load(open(os.path.join(raw_folder, 'all_patches_cell_sizes.pkl'), 'rb'))\n",
    "\n",
    "df = {'PC1': np.concatenate([patch_PC1[w] for w in wells_]),\n",
    "      'PC2': np.concatenate([patch_PC2[w] for w in wells_]),\n",
    "      'sizes': np.concatenate([[sizes[f] for f in fs[w]] for w in wells_])}\n",
    "\n",
    "cmap = matplotlib.cm.get_cmap('BuPu')  \n",
    "range_min = np.log(min(df['sizes']))\n",
    "range_max = np.log(max(df['sizes']))\n",
    "cs = [cmap(((np.log(s) - range_min)/(range_max - range_min))**1.5) for s in df['sizes']]\n",
    "\n",
    "plt.clf()\n",
    "sns.set_style('white')\n",
    "fig, ax = plt.subplots()\n",
    "\n",
    "random_subset_inds = np.random.choice(np.arange(len(df['PC1'])), (80000,), replace=False)\n",
    "\n",
    "ax.scatter(df['PC1'][random_subset_inds], \n",
    "           df['PC2'][random_subset_inds], \n",
    "           c=[cs[i] for i in random_subset_inds], \n",
    "           s=1., \n",
    "           edgecolors='none')\n",
    "plt.xlabel(\"\")\n",
    "plt.ylabel(\"\")\n",
    "\n",
    "\n",
    "traj_samples = ['B2-Site_0/35',\n",
    "                'C4-Site_2/189',\n",
    "                'B2-Site_5/21',\n",
    "                'C4-Site_2/3']\n",
    "selected_frames = [np.array([0, 60, 90, 120, 150]),\n",
    "                   np.array([0, 30, 45, 60, 74]),\n",
    "                   np.array([0, 60, 90, 120, 150]),\n",
    "                   np.array([0, 60, 80, 120, 140])]\n",
    "cmap2 = matplotlib.cm.get_cmap('tab10')\n",
    "colors2 = [cmap2.colors[1],\n",
    "           cmap2.colors[5], \n",
    "           (0.15, 0.5, 0.15), \n",
    "           (0.2, 0.2, 0.2)]\n",
    "for ct, (t, inds, c) in enumerate(zip(traj_samples, selected_frames, colors2)):\n",
    "    well = t[:2]\n",
    "    order = np.array(traj_inds[t])\n",
    "    ax.plot(dats[well][order][:, 0], dats[well][order][:, 1], '.--', c=c, linewidth=0.5, markersize=0.5)\n",
    "    ax.plot(dats[well][order][inds][:, 0], dats[well][order][inds][:, 1], '.', c=c, markersize=2.0)\n",
    "    for i in range(len(inds) - 1):\n",
    "        ind0 = inds[i]\n",
    "        ind1 = inds[i+1]\n",
    "        ax.arrow(dats[well][order[ind0], 0],\n",
    "                 dats[well][order[ind0], 1],\n",
    "                 dats[well][order[ind1], 0] - dats[well][order[ind0], 0],\n",
    "                 dats[well][order[ind1], 1] - dats[well][order[ind0], 1],\n",
    "                 fc='none',\n",
    "                 ec=c,\n",
    "                 length_includes_head=True,\n",
    "                 head_width=0.2, \n",
    "                 head_length=0.3)\n",
    "    names = []\n",
    "    output_paths = []\n",
    "    for j, ind in enumerate(order[inds]):\n",
    "        f = fs[well][ind]\n",
    "        site = f.split('/')[-2]\n",
    "        well = site[:2]\n",
    "        t_point = int(f.split('/')[-1].split('_')[0])\n",
    "        \n",
    "        path = os.path.join(supp_folder, '%s-supps' % well, site, 'stacks_%d.pkl' % t_point)\n",
    "        sample_dat = pickle.load(open(path, 'rb'))[f]['mat']\n",
    "        cv2.imwrite('NOVEMBER_traj_sample_%d_%d.png' % (ct, j), \n",
    "                    enhance_contrast(sample_dat[:, :, 0], phase_a, phase_b).astype('uint16'))\n",
    "\n",
    "plt.tight_layout()\n",
    "plt.savefig(\"NOVEMBER_PCA.eps\")"
   ]
  },
  {
   "cell_type": "code",
   "execution_count": null,
   "metadata": {},
   "outputs": [],
   "source": []
  },
  {
   "cell_type": "code",
   "execution_count": null,
   "metadata": {},
   "outputs": [],
   "source": [
    "# ts_of_I = []\n",
    "# for t in trajs:\n",
    "#     well = t[:2]\n",
    "#     t_pc = np.array([dats[well][ind, :2] for ind in traj_inds[t]])\n",
    "#     t_neighbors = [sorted(cell_envs[fs[well][ind]])[1] for ind in traj_inds[t]]\n",
    "#     if np.percentile(t_neighbors, 5) < 70:\n",
    "#         continue\n",
    "#     if len(t_pc) > 30:\n",
    "#         i = 0\n",
    "#         centers = {}\n",
    "#         while (i+10) < len(t_pc):\n",
    "#             center = t_pc[i:(i+10)].mean(0)\n",
    "#             std = t_pc[i:(i+10)].std(0)\n",
    "#             if std.sum() < 2:\n",
    "#                 centers[i] = center\n",
    "#                 i += 12\n",
    "#             else:\n",
    "#                 i += 1\n",
    "#         if len(centers) > 1:\n",
    "#             centers = np.array(list(centers.values()))\n",
    "#             if np.max(np.linalg.norm(centers.reshape((-1, 1, 2)) - centers.reshape((1, -1, 2)), ord=2, axis=2)) > 4:\n",
    "#                 ts_of_I.append(t)\n",
    "\n",
    "ts_of_I = [\n",
    "    'B2-Site_0/11',\n",
    "    'B2-Site_0/35',\n",
    "    'B2-Site_0/40',\n",
    "    'B2-Site_0/45',\n",
    "    'B2-Site_0/48',\n",
    "    'B2-Site_0/221',\n",
    "    'B2-Site_1/74',\n",
    "    'B2-Site_2/9',\n",
    "    'B2-Site_5/35',\n",
    "    'B2-Site_5/125',\n",
    "    'B4-Site_0/67',\n",
    "    'B4-Site_6/65',\n",
    "    'B5-Site_7/3',\n",
    "    'C4-Site_0/49',\n",
    "    'C4-Site_0/77',\n",
    "    'C4-Site_2/51',\n",
    "    'C4-Site_2/52',\n",
    "    'C4-Site_2/53',\n",
    "    'C4-Site_2/59',\n",
    "    'C4-Site_2/149',\n",
    "    'C4-Site_2/189',\n",
    "    'C4-Site_3/109',\n",
    "    'C5-Site_3/22'\n",
    "]\n",
    "\n",
    "# for t in ts_of_I:\n",
    "#     plt.clf()\n",
    "#     well = t[:2]\n",
    "#     t_pc = np.array([dats[well][ind, :2] for ind in traj_inds[t]])\n",
    "#     plt.plot(t_pc[:, 0], t_pc[:, 1], '.-')\n",
    "#     plt.xlim(-7, 11)\n",
    "#     plt.ylim(-4, 12)\n",
    "#     plt.savefig('traj_selected/%s.png' % t.replace('/', '_'))\n",
    "#    save_traj_bbox(t, 'traj_selected/%s_box.gif' % t.replace('/', '_'))"
   ]
  },
  {
   "cell_type": "code",
   "execution_count": null,
   "metadata": {},
   "outputs": [],
   "source": []
  },
  {
   "cell_type": "code",
   "execution_count": null,
   "metadata": {},
   "outputs": [],
   "source": []
  },
  {
   "cell_type": "code",
   "execution_count": null,
   "metadata": {},
   "outputs": [],
   "source": [
    "### PC1, PC2, speed individual distribution ###\n",
    "# Patch level\n",
    "# sns.set_style(\"whitegrid\")\n",
    "# plt.clf()\n",
    "# f = plt.figure(figsize=(4.5, 3))\n",
    "# for well in wells_:\n",
    "#     freqs, bins = np.histogram(patch_PC1[well], bins=bins_PC1, normed=True)\n",
    "#     x = (bins[:-1] + bins[1:])/2\n",
    "#     plt.plot(x, freqs, c=colors[well], label=legends[well])\n",
    "# plt.xlabel(\"\")\n",
    "# plt.ylabel(\"\")\n",
    "# plt.legend()\n",
    "# plt.grid(b=False, which='major', axis='x')\n",
    "# plt.tight_layout()\n",
    "# plt.savefig(\"NOVEMBER_all_patch_PC1.png\", dpi=300)\n",
    "# plt.savefig(\"NOVEMBER_all_patch_PC1.eps\")\n",
    "\n",
    "# plt.clf()\n",
    "# f = plt.figure(figsize=(4.5, 3))\n",
    "# for well in wells_:\n",
    "#     freqs, bins = np.histogram(patch_PC2[well], bins=bins_PC2, normed=True)\n",
    "#     x = (bins[:-1] + bins[1:])/2\n",
    "#     plt.plot(x, freqs, c=colors[well], label=legends[well])\n",
    "# plt.xlabel(\"\")\n",
    "# plt.ylabel(\"\")\n",
    "# plt.legend()\n",
    "# plt.grid(b=False, which='major', axis='x')\n",
    "# plt.tight_layout()\n",
    "# plt.savefig(\"NOVEMBER_all_patch_PC2.png\", dpi=300)\n",
    "# plt.savefig(\"NOVEMBER_all_patch_PC2.eps\")\n",
    "\n",
    "# Trajectory level\n",
    "plt.clf()\n",
    "f = plt.figure(figsize=(4.5, 3))\n",
    "for well in wells_:\n",
    "    freqs, bins = np.histogram(traj_PC1[well], bins=bins_PC1, normed=True)\n",
    "    x = (bins[:-1] + bins[1:])/2\n",
    "    plt.plot(x, freqs, c=colors[well], label=legends[well])\n",
    "plt.xlabel(\"\")\n",
    "plt.ylabel(\"\")\n",
    "plt.legend()\n",
    "plt.grid(b=False, which='major', axis='x')\n",
    "plt.tight_layout()\n",
    "plt.savefig(\"NOVEMBER_all_traj_PC1.png\", dpi=300)\n",
    "plt.savefig(\"NOVEMBER_all_traj_PC1.eps\")\n",
    "\n",
    "plt.clf()\n",
    "f = plt.figure(figsize=(4.5, 3))\n",
    "for well in wells_:\n",
    "    freqs, bins = np.histogram(traj_PC2[well], bins=bins_PC2, normed=True)\n",
    "    x = (bins[:-1] + bins[1:])/2\n",
    "    plt.plot(x, freqs, c=colors[well], label=legends[well])\n",
    "plt.xlabel(\"\")\n",
    "plt.ylabel(\"\")\n",
    "plt.legend()\n",
    "plt.grid(b=False, which='major', axis='x')\n",
    "plt.tight_layout()\n",
    "plt.savefig(\"NOVEMBER_all_traj_PC2.png\", dpi=300)\n",
    "plt.savefig(\"NOVEMBER_all_traj_PC2.eps\")\n",
    "\n",
    "# plt.clf()\n",
    "# f = plt.figure(figsize=(4.5, 3))\n",
    "# for well in wells_:\n",
    "#     freqs, bins = np.histogram(traj_speed[well], bins=bins_speed, normed=True)\n",
    "#     x = (bins[:-1] + bins[1:])/2\n",
    "#     plt.plot(x, freqs, c=colors[well], label=legends[well])\n",
    "# plt.xlabel(\"\")\n",
    "# plt.ylabel(\"\")\n",
    "# plt.legend()\n",
    "# plt.grid(b=False, which='major', axis='x')\n",
    "# speed_ticks = [4., 8., 16., 32., 64., 128.]\n",
    "# plt.gca().set_xticks(np.log(speed_ticks))\n",
    "# plt.gca().set_xticklabels(speed_ticks)\n",
    "# plt.tight_layout()\n",
    "# plt.savefig(\"NOVEMBER_all_traj_speed.png\", dpi=300)\n",
    "# plt.savefig(\"NOVEMBER_all_traj_speed.eps\")\n"
   ]
  },
  {
   "cell_type": "code",
   "execution_count": null,
   "metadata": {},
   "outputs": [],
   "source": []
  },
  {
   "cell_type": "code",
   "execution_count": null,
   "metadata": {},
   "outputs": [],
   "source": [
    "### PC1-PC2, PC1-speed, PC2-speed density plot ###\n",
    "\n",
    "# plot_fn = plot_joint_density\n",
    "plot_fn = plot_joint_kde\n",
    "sns.set_style(\"white\")\n",
    "\n",
    "# Patch level\n",
    "# for well in wells:\n",
    "#     df = {'PC1': patch_PC1[well], 'PC2': patch_PC2[well]}\n",
    "#     plt.clf()\n",
    "#     plot_fn('PC1', 'PC2', df, bins_PC1, bins_PC2, cmap=cmaps[well])\n",
    "#     plt.xlabel(\"\")\n",
    "#     plt.ylabel(\"\")\n",
    "#     plt.text(bins_PC1[2], bins_PC2[-3], legends[well], fontdict={\"size\": 16})\n",
    "#     plt.tight_layout()\n",
    "#     plt.savefig(\"NOVEMBER_%s_patch_PC1_PC2.png\" % well, dpi=300)\n",
    "#     plt.savefig(\"NOVEMBER_%s_patch_PC1_PC2.eps\" % well)\n",
    "\n",
    "# df = {'PC1': np.concatenate([patch_PC1[w] for w in wells]),\n",
    "#       'PC2': np.concatenate([patch_PC2[w] for w in wells])}\n",
    "# plt.clf()\n",
    "# plot_fn('PC1', 'PC2', df, bins_PC1, bins_PC2, cmap=cmaps['all'])\n",
    "# plt.xlabel(\"\")\n",
    "# plt.ylabel(\"\")\n",
    "# plt.text(bins_PC1[2], bins_PC2[-3], 'All', fontdict={\"size\": 16})\n",
    "# plt.tight_layout()\n",
    "# plt.savefig(\"NOVEMBER_all_patch_PC1_PC2.png\", dpi=300)\n",
    "# plt.savefig(\"NOVEMBER_all_patch_PC1_PC2.eps\")\n",
    "\n",
    "\n",
    "# Trajectory level\n",
    "for well in wells_:\n",
    "    df = {'PC1': traj_PC1[well], 'PC2': traj_PC2[well], 'Speed': traj_speed[well]}\n",
    "    speed_ticks = [4, 16, 64]\n",
    "    \n",
    "    plt.clf()\n",
    "    f = plt.figure(figsize=(2.5, 2.5))\n",
    "    sns.kdeplot(df['PC1'], df['Speed'], cmap=cmaps[well], shade=True)\n",
    "    plt.xlabel(\"\")\n",
    "    plt.ylabel(\"\")\n",
    "    plt.xlim(bins_PC1[0], bins_PC1[-1])\n",
    "    plt.ylim(bins_speed[0], bins_speed[-1])\n",
    "    plt.gca().set_yticks(np.log(speed_ticks))\n",
    "    plt.gca().set_yticklabels(speed_ticks)\n",
    "    plt.text(bins_PC1[1], bins_speed[1], legends[well], fontdict={\"size\": 16})\n",
    "    plt.tight_layout()\n",
    "    plt.savefig(\"NOVEMBER_%s_trajectory_PC1_speed.png\" % well, dpi=300)\n",
    "    plt.savefig(\"NOVEMBER_%s_trajectory_PC1_speed.eps\" % well)\n",
    "\n",
    "    plt.clf()\n",
    "    f = plt.figure(figsize=(2.5, 2.5))\n",
    "    sns.kdeplot(df['PC2'], df['Speed'], cmap=cmaps[well], shade=True)\n",
    "    plt.xlabel(\"\")\n",
    "    plt.ylabel(\"\")\n",
    "    plt.xlim(bins_PC2[0], bins_PC2[-1])\n",
    "    plt.ylim(bins_speed[0], bins_speed[-1])\n",
    "    plt.gca().set_yticks(np.log(speed_ticks))\n",
    "    plt.gca().set_yticklabels(speed_ticks)\n",
    "    plt.text(bins_PC2[1], bins_speed[1], legends[well], fontdict={\"size\": 16})\n",
    "    plt.tight_layout()\n",
    "    plt.savefig(\"NOVEMBER_%s_trajectory_PC2_speed.png\" % well, dpi=300)\n",
    "    plt.savefig(\"NOVEMBER_%s_trajectory_PC2_speed.eps\" % well)\n",
    "\n",
    "speed_ticks = [4, 8, 16, 32, 64, 128]\n",
    "df = {'PC1': np.concatenate([traj_PC1[w] for w in wells_]),\n",
    "      'PC2': np.concatenate([traj_PC2[w] for w in wells_]),\n",
    "      'Speed': np.concatenate([traj_speed[w] for w in wells_])}\n",
    "\n",
    "plt.clf()\n",
    "f = plt.figure(figsize=(3, 3))\n",
    "sns.kdeplot(df['PC1'], df['Speed'], cmap=ListedColormap(generate_color_vectors('#ffffff', '#888888')), shade=True)\n",
    "plt.xlabel(\"\")\n",
    "plt.ylabel(\"\")\n",
    "plt.xlim(bins_PC1[0], bins_PC1[-1])\n",
    "plt.ylim(bins_speed[0], bins_speed[-1])\n",
    "plt.gca().set_yticks(np.log(speed_ticks))\n",
    "plt.gca().set_yticklabels(speed_ticks)\n",
    "plt.text(bins_PC1[1], bins_speed[1], 'All', fontdict={\"size\": 20})\n",
    "plt.tight_layout()\n",
    "plt.savefig(\"NOVEMBER_all_trajectory_PC1_speed.png\", dpi=300)\n",
    "plt.savefig(\"NOVEMBER_all_trajectory_PC1_speed.eps\")\n",
    "    \n",
    "plt.clf()\n",
    "f = plt.figure(figsize=(3, 3))\n",
    "sns.kdeplot(df['PC2'], df['Speed'], cmap=ListedColormap(generate_color_vectors('#ffffff', '#888888')), shade=True)\n",
    "plt.xlabel(\"\")\n",
    "plt.ylabel(\"\")\n",
    "plt.xlim(bins_PC2[0], bins_PC2[-1])\n",
    "plt.ylim(bins_speed[0], bins_speed[-1])\n",
    "plt.gca().set_yticks(np.log(speed_ticks))\n",
    "plt.gca().set_yticklabels(speed_ticks)\n",
    "plt.text(bins_PC2[1], bins_speed[1], 'All', fontdict={\"size\": 20})\n",
    "plt.tight_layout()\n",
    "plt.savefig(\"NOVEMBER_all_trajectory_PC2_speed.png\", dpi=300)\n",
    "plt.savefig(\"NOVEMBER_all_trajectory_PC2_speed.eps\")"
   ]
  },
  {
   "cell_type": "code",
   "execution_count": null,
   "metadata": {},
   "outputs": [],
   "source": []
  },
  {
   "cell_type": "code",
   "execution_count": null,
   "metadata": {},
   "outputs": [],
   "source": []
  },
  {
   "cell_type": "code",
   "execution_count": 26,
   "metadata": {},
   "outputs": [],
   "source": [
    "### Representative Trajectories ###\n",
    "t_lag = 1\n",
    "def extract_representatives(traj_pool, target_PC1=(None, None), target_PC2=(None, None), target_dist=(None, None)):\n",
    "    selected_ts = []\n",
    "    properties = {}\n",
    "    for t in traj_pool:\n",
    "        well = t[:2]\n",
    "        t_keys = sorted(trajs[t].keys())\n",
    "        dists = []\n",
    "        for t_point in t_keys:\n",
    "            if (t_point + t_lag) in t_keys:\n",
    "                d = np.linalg.norm(traj_positions[t][t_point+t_lag] - \\\n",
    "                                   traj_positions[t][t_point], ord=2)\n",
    "                dists.append(d)\n",
    "        traj_pc1 = [dats[well][ind, 0] for ind in traj_inds[t]]\n",
    "        traj_pc2 = [dats[well][ind, 1] for ind in traj_inds[t]]\n",
    "        traj_dist = np.array(dists) * 0.72222\n",
    "        if not target_PC1[0] is None:\n",
    "            if np.mean(traj_pc1) < target_PC1[0]:\n",
    "                continue\n",
    "        if not target_PC1[1] is None:\n",
    "            if np.mean(traj_pc1) > target_PC1[1]:\n",
    "                continue\n",
    "        if not target_PC2[0] is None:\n",
    "            if np.mean(traj_pc2) < target_PC2[0]:\n",
    "                continue\n",
    "        if not target_PC2[1] is None:\n",
    "            if np.mean(traj_pc2) > target_PC2[1]:\n",
    "                continue\n",
    "        if not target_dist[0] is None:\n",
    "            if np.mean(traj_dist) < target_dist[0]:\n",
    "                continue\n",
    "        if not target_dist[1] is None:\n",
    "            if np.mean(traj_dist) > target_dist[1]:\n",
    "                continue\n",
    "        selected_ts.append(t)\n",
    "        properties[t] = (traj_pc1, traj_pc2, traj_dist)\n",
    "    selected_ts = sorted(selected_ts, key=lambda x: np.std(properties[x][0]) + np.std(properties[x][1]))\n",
    "    return selected_ts\n",
    "\n",
    "# model = VQ_VAE(alpha=0.0005, gpu=True)\n",
    "# model = model.cuda()\n",
    "# model.load_state_dict(torch.load('HiddenStateExtractor/save_0005_bkp4.pt'))\n",
    "sample_fs = {}"
   ]
  },
  {
   "cell_type": "code",
   "execution_count": 27,
   "metadata": {},
   "outputs": [
    {
     "name": "stdout",
     "output_type": "stream",
     "text": [
      "Writing B4-Site_2_282\n",
      "Writing B4-Site_0_89\n",
      "Writing B4-Site_0_1\n",
      "Writing B4-Site_2_51\n",
      "Writing B4-Site_6_427\n",
      "Writing B4-Site_3_30\n"
     ]
    }
   ],
   "source": [
    "# Extract representative trajectories: B4\n",
    "well = 'B4'\n",
    "target_PC2 = [-1, 0]\n",
    "target_dist = [8., 18.]\n",
    "traj_pool = [t for t in trajs if t.startswith(well)]\n",
    "selected_ts = extract_representatives(traj_pool, target_PC2=target_PC2, target_dist=target_dist)\n",
    "selected_fs_pool = []\n",
    "for t in selected_ts[:20]:\n",
    "    selected_fs_pool.extend([fs[well][ind] for ind in traj_inds[t]])\n",
    "\n",
    "plot_ts = [t for t in selected_ts[:30] if len(traj_inds[t]) > 30]\n",
    "for t in np.random.choice(plot_ts, (6,), replace=False):\n",
    "    print(\"Writing %s\" % t.replace('/', '_'))\n",
    "    save_traj_bbox(t, 'supp_video_%s_sample_bbox_%s.gif' % (well, t.replace('/', '_')))\n",
    "    save_movie(t, 'supp_video_%s_sample_movie_%s.gif' % (well, t.replace('/', '_')))\n",
    "\n",
    "np.random.seed(123)\n",
    "sample_fs[well] = np.random.choice(selected_fs_pool, (4,), replace=False)"
   ]
  },
  {
   "cell_type": "code",
   "execution_count": 28,
   "metadata": {},
   "outputs": [
    {
     "name": "stdout",
     "output_type": "stream",
     "text": [
      "Writing B5-Site_2_100\n",
      "Writing B5-Site_7_28\n",
      "Writing B5-Site_1_7\n",
      "Writing B5-Site_2_243\n",
      "Writing B5-Site_1_252\n",
      "Writing B5-Site_6_72\n"
     ]
    }
   ],
   "source": [
    "# Extract representative trajectories: B5\n",
    "well = 'B5'\n",
    "target_PC2 = [-1.5, -0.5]\n",
    "target_dist = [4., 12.]\n",
    "traj_pool = [t for t in trajs if t.startswith(well)]\n",
    "selected_ts = extract_representatives(traj_pool, target_PC2=target_PC2, target_dist=target_dist)\n",
    "selected_fs_pool = []\n",
    "for t in selected_ts[:20]:\n",
    "    selected_fs_pool.extend([fs[well][ind] for ind in traj_inds[t]])\n",
    "\n",
    "plot_ts = [t for t in selected_ts[:30] if len(traj_inds[t]) > 30]\n",
    "for t in np.random.choice(plot_ts, (6,), replace=False):\n",
    "    print(\"Writing %s\" % t.replace('/', '_'))\n",
    "    save_traj_bbox(t, 'supp_video_%s_sample_bbox_%s.gif' % (well, t.replace('/', '_')))\n",
    "    save_movie(t, 'supp_video_%s_sample_movie_%s.gif' % (well, t.replace('/', '_')))\n",
    "    \n",
    "np.random.seed(123)\n",
    "sample_fs[well] = np.random.choice(selected_fs_pool, (4,), replace=False)"
   ]
  },
  {
   "cell_type": "code",
   "execution_count": null,
   "metadata": {},
   "outputs": [],
   "source": [
    "# Extract representative trajectories: C4\n",
    "well = 'C4'\n",
    "target_PC2 = [0, 1]\n",
    "target_dist = [8., 18.]\n",
    "traj_pool = [t for t in trajs if t.startswith(well)]\n",
    "selected_ts = extract_representatives(traj_pool, target_PC2=target_PC2, target_dist=target_dist)\n",
    "selected_fs_pool = []\n",
    "for t in selected_ts[:20]:\n",
    "    selected_fs_pool.extend([fs[well][ind] for ind in traj_inds[t]])\n",
    "\n",
    "plot_ts = [t for t in selected_ts[:30] if len(traj_inds[t]) > 30]\n",
    "for t in np.random.choice(plot_ts, (6,), replace=False):\n",
    "    print(\"Writing %s\" % t.replace('/', '_'))\n",
    "    save_traj_bbox(t, 'supp_video_%s_sample_bbox_%s.gif' % (well, t.replace('/', '_')))\n",
    "    save_movie(t, 'supp_video_%s_sample_movie_%s.gif' % (well, t.replace('/', '_')))\n",
    "\n",
    "np.random.seed(123)\n",
    "sample_fs[well] = np.random.choice(selected_fs_pool, (4,), replace=False)"
   ]
  },
  {
   "cell_type": "code",
   "execution_count": 32,
   "metadata": {},
   "outputs": [
    {
     "name": "stdout",
     "output_type": "stream",
     "text": [
      "Writing C5-Site_5_375\n",
      "Writing C5-Site_3_349\n",
      "Writing C5-Site_3_9\n",
      "Writing C5-Site_1_441\n",
      "Writing C5-Site_3_59\n"
     ]
    }
   ],
   "source": [
    "# Extract representative trajectories: C5\n",
    "well = 'C5'\n",
    "target_PC2 = [2.5, 3.5]\n",
    "target_dist = [18., 36.]\n",
    "traj_pool = [t for t in trajs if t.startswith(well)]\n",
    "selected_ts = extract_representatives(traj_pool, target_PC2=target_PC2, target_dist=target_dist)\n",
    "selected_fs_pool = []\n",
    "for t in selected_ts[:20]:\n",
    "    selected_fs_pool.extend([fs[well][ind] for ind in traj_inds[t]])\n",
    "\n",
    "plot_ts = [t for t in selected_ts[:30] if len(traj_inds[t]) > 20]\n",
    "for t in np.random.choice(plot_ts, (6,), replace=False):\n",
    "    print(\"Writing %s\" % t.replace('/', '_'))\n",
    "    save_traj_bbox(t, 'supp_video_%s_sample_bbox_%s.gif' % (well, t.replace('/', '_')))\n",
    "    save_movie(t, 'supp_video_%s_sample_movie_%s.gif' % (well, t.replace('/', '_')))\n",
    "\n",
    "np.random.seed(123)\n",
    "sample_fs[well] = np.random.choice(selected_fs_pool, (4,), replace=False)"
   ]
  },
  {
   "cell_type": "code",
   "execution_count": 30,
   "metadata": {},
   "outputs": [
    {
     "name": "stdout",
     "output_type": "stream",
     "text": [
      "Writing B2-Site_2_39\n",
      "Writing B2-Site_5_81\n",
      "Writing B2-Site_2_243\n",
      "Writing B2-Site_0_43\n",
      "Writing B2-Site_1_84\n",
      "Writing B2-Site_2_24\n",
      "Writing B2-Site_5_59\n",
      "Writing B2-Site_0_214\n"
     ]
    }
   ],
   "source": [
    "# Extract representative trajectories: B2\n",
    "well = 'B2'\n",
    "target_PC2 = [3.5, 4.5]\n",
    "target_dist = [12., 24.]\n",
    "traj_pool = [t for t in trajs if t.startswith(well)]\n",
    "selected_ts = extract_representatives(traj_pool, target_PC2=target_PC2, target_dist=target_dist)\n",
    "selected_fs_pool = []\n",
    "for t in selected_ts[:20]:\n",
    "    selected_fs_pool.extend([fs[well][ind] for ind in traj_inds[t]])\n",
    "plot_ts = [t for t in selected_ts[:30] if len(traj_inds[t]) > 30]\n",
    "    \n",
    "target_PC2 = [0, 2]\n",
    "target_dist = [4., 12.]\n",
    "traj_pool = [t for t in trajs if t.startswith(well)]\n",
    "selected_ts = extract_representatives(traj_pool, target_PC2=target_PC2, target_dist=target_dist)\n",
    "for t in selected_ts[:20]:\n",
    "    selected_fs_pool.extend([fs[well][ind] for ind in traj_inds[t]])\n",
    "plot_ts.extend([t for t in selected_ts[:30] if len(traj_inds[t]) > 30])\n",
    "for t in np.random.choice(plot_ts, (8,), replace=False):\n",
    "    print(\"Writing %s\" % t.replace('/', '_'))\n",
    "    save_traj_bbox(t, 'supp_video_%s_sample_bbox_%s.gif' % (well, t.replace('/', '_')))\n",
    "    save_movie(t, 'supp_video_%s_sample_movie_%s.gif' % (well, t.replace('/', '_')))\n",
    "\n",
    "np.random.seed(123)\n",
    "sample_fs[well] = np.random.choice(selected_fs_pool, (4,), replace=False)"
   ]
  },
  {
   "cell_type": "code",
   "execution_count": null,
   "metadata": {},
   "outputs": [],
   "source": [
    "for well in sample_fs:\n",
    "    for i, f in enumerate(sample_fs[well]):\n",
    "        sample = all_patches[f]\n",
    "        output = model(sample.cuda())[0]\n",
    "        inp = sample.cpu().data.numpy()\n",
    "        out = output.cpu().data.numpy()\n",
    "        input_phase = (inp[0, 0] * 65535).astype('uint16')\n",
    "        output_phase = (out[0, 0] * 65535).astype('uint16')\n",
    "        cv2.imwrite('NOVEMBER_samples_%s_%d_input_phase.png' % (well, i), enhance_contrast(input_phase, 1., -10000)) # Note dataset has been rescaled\n",
    "        cv2.imwrite('NOVEMBER_samples_%s_%d_output_phase.png' % (well, i), enhance_contrast(output_phase, 1., -10000))"
   ]
  },
  {
   "cell_type": "code",
   "execution_count": null,
   "metadata": {},
   "outputs": [],
   "source": []
  },
  {
   "cell_type": "code",
   "execution_count": null,
   "metadata": {},
   "outputs": [],
   "source": []
  },
  {
   "cell_type": "code",
   "execution_count": null,
   "metadata": {},
   "outputs": [],
   "source": []
  },
  {
   "cell_type": "code",
   "execution_count": null,
   "metadata": {},
   "outputs": [],
   "source": []
  },
  {
   "cell_type": "code",
   "execution_count": null,
   "metadata": {},
   "outputs": [],
   "source": []
  },
  {
   "cell_type": "code",
   "execution_count": null,
   "metadata": {},
   "outputs": [],
   "source": []
  },
  {
   "cell_type": "code",
   "execution_count": 61,
   "metadata": {},
   "outputs": [],
   "source": [
    "### GMM to multiple states ###\n",
    "t_lag = 1\n",
    "traj_properties = {}\n",
    "X = []\n",
    "Y = []\n",
    "t_arrays = []\n",
    "for t in trajs:\n",
    "    well = t[:2]\n",
    "    if not well in wells_:\n",
    "        continue\n",
    "    t_keys = sorted(trajs[t].keys())\n",
    "    dists = []\n",
    "    for t_point in t_keys:\n",
    "        if (t_point + t_lag) in t_keys:\n",
    "            d = np.linalg.norm(traj_positions[t][t_point+t_lag] - \\\n",
    "                               traj_positions[t][t_point], ord=2)\n",
    "            dists.append(d)\n",
    "        \n",
    "    traj_PC = [dats[well][ind] for ind in traj_inds[t]]\n",
    "    traj_dist = dists\n",
    "    traj_properties[t] = (traj_PC, traj_dist)\n",
    "    X.append(np.concatenate([np.array(np.log(np.mean(traj_dist) * 0.325 / 0.1518)).reshape((-1,)), np.mean(traj_PC, 0)]))\n",
    "    Y.append(sorted(wells_).index(well))\n",
    "    t_arrays.append(t)\n",
    "    \n",
    "X = np.array(X)\n",
    "Y = np.array(Y)\n",
    "std_unit = np.std(X, 0)\n",
    "std_unit = np.clip(std_unit, 0.6, 10.)\n",
    "# std_unit[1:] = np.clip(std_unit[1:], std_unit[1], 10.)"
   ]
  },
  {
   "cell_type": "code",
   "execution_count": null,
   "metadata": {},
   "outputs": [],
   "source": []
  },
  {
   "cell_type": "code",
   "execution_count": 62,
   "metadata": {},
   "outputs": [
    {
     "name": "stdout",
     "output_type": "stream",
     "text": [
      "[[0.37813055 0.62186945]\n",
      " [0.90453519 0.09546481]\n",
      " [0.98587095 0.01412905]\n",
      " [0.13003713 0.86996287]]\n"
     ]
    }
   ],
   "source": [
    "### GMM ###\n",
    "def calculate_sample_prob_mat(X, centers, stds):\n",
    "    # Sample prob mat should be N * 2\n",
    "    n_feat = X.shape[1]\n",
    "    X_ = X.reshape((-1, 1, n_feat))\n",
    "    centers_ = np.array(centers).reshape((1, -1, n_feat))\n",
    "    stds_ = np.array(stds).reshape((1, -1, n_feat))\n",
    "    prob_mat = np.square((X_ - centers_)/stds_).sum(2)\n",
    "    prob_mat = prob_mat - prob_mat.min(1, keepdims=True)\n",
    "    prob_mat = np.exp(-0.5 * prob_mat)\n",
    "    return prob_mat\n",
    "\n",
    "\n",
    "def initialize_well_prob_mat(sample_prob_mat, y):\n",
    "    # Well prob mat should be 5*2\n",
    "    classes = sorted(np.unique(y))\n",
    "    prob_mat = np.zeros((len(classes), sample_prob_mat.shape[1]))\n",
    "    for i, c in enumerate(classes):\n",
    "        line = sample_prob_mat[np.where(y == c)].sum(0)\n",
    "        line = line/line.sum()\n",
    "        prob_mat[i] = line\n",
    "    return prob_mat\n",
    "\n",
    "\n",
    "def get_merged_prob_mat(X, y, centers, stds, well_prob_mat):\n",
    "    # E-step\n",
    "    sample_prob_mat = calculate_sample_prob_mat(X, centers, stds)\n",
    "    prob_mat = []\n",
    "    for i in range(len(X)):\n",
    "        prob_ = sample_prob_mat[i] * well_prob_mat[y[i]]\n",
    "        prob_ = prob_/prob_.sum()\n",
    "        prob_mat.append(prob_)\n",
    "    prob_mat = np.stack(prob_mat, 0)\n",
    "    return prob_mat\n",
    "    \n",
    "\n",
    "def calculate_new_centers(X, y, prob_mat):\n",
    "    # M-step\n",
    "    classes = sorted(np.unique(y))\n",
    "    weights = prob_mat\n",
    "\n",
    "    outlying = np.zeros((X.shape[0],))\n",
    "    for i, c in enumerate(classes):\n",
    "        inds = np.where(y == c)\n",
    "        X_c = X[inds]\n",
    "        median_X_c = np.median(X_c, keepdims=True, axis=0)\n",
    "        outlying[inds] = np.linalg.norm(X_c - median_X_c, axis=1, ord=2)  \n",
    "  \n",
    "    outlying = (1 - 0.7 * (outlying - outlying.min())/(outlying.max() - outlying.min())) ** 10.\n",
    "    weights = weights * outlying.reshape((-1, 1))\n",
    "  \n",
    "    centers = []\n",
    "    stds = []\n",
    "    for i in range(weights.shape[1]):\n",
    "        w = weights[:, i:(i+1)]\n",
    "        center = (w * X).sum(0)/w.sum()\n",
    "        centers.append(center)\n",
    "        std = np.sqrt(((w * (X - center) ** 2).sum(0)/w.sum()))\n",
    "        ratio = np.median((std/std_unit)[:5])\n",
    "        stds.append(ratio * std_unit)\n",
    "\n",
    "    well_prob_mat = []\n",
    "    for i, c in enumerate(classes):\n",
    "        inds = np.where(y == c)\n",
    "        well_prob_mat.append(weights[inds].sum(0)/weights[inds].sum())\n",
    "    well_prob_mat = np.stack(well_prob_mat, 0)\n",
    "    return centers, stds, well_prob_mat\n",
    "  \n",
    "    \n",
    "# Two states or three states\n",
    "init_center1 = np.median(X[np.where(Y == 1)], 0)\n",
    "init_center2 = np.median(X[np.where(Y == 3)], 0)\n",
    "#init_center3 = np.median(X[np.where(Y == 0)], 0)\n",
    "init_center1 += np.random.normal(0, 0.1, init_center1.shape)\n",
    "init_center2 += np.random.normal(0, 0.1, init_center1.shape)\n",
    "#init_center3 += np.random.normal(0, 0.1, init_center1.shape)\n",
    "centers = [init_center1, init_center2]#, init_center3]\n",
    "stds = [0.6*std_unit for c in centers]\n",
    "well_prob_mat = initialize_well_prob_mat(calculate_sample_prob_mat(X, centers, stds), Y)\n",
    "\n",
    "for i in range(20): \n",
    "    prob_mat = get_merged_prob_mat(X, Y, centers, stds, well_prob_mat)\n",
    "    centers, _, well_prob_mat = calculate_new_centers(X, Y, prob_mat)\n",
    "print(well_prob_mat)\n",
    "\n",
    "### Calculate trajectory states ###\n",
    "state_cmaps = [plt.get_cmap(name) for name in ['Blues', 'Reds', 'Greens', 'Oranges']]\n",
    "traj_states = {well: [] for well in wells_}\n",
    "prob_mat = get_merged_prob_mat(X, Y, centers, stds, well_prob_mat)\n",
    "for well in wells_:\n",
    "    names = traj_names[well]\n",
    "    for n in names:\n",
    "        traj_states[well].append(prob_mat[t_arrays.index(n)])"
   ]
  },
  {
   "cell_type": "code",
   "execution_count": 295,
   "metadata": {},
   "outputs": [],
   "source": [
    "### UMAP of morphodynamic features ###\n",
    "import umap\n",
    "import matplotlib.pyplot as plt\n",
    "import pickle\n",
    "n = 10\n",
    "d = 0.1\n",
    "X_ = X/std_unit\n",
    "prob_mat = get_merged_prob_mat(X, Y, centers, stds, well_prob_mat)\n",
    "reducer = umap.UMAP(n_neighbors=n, min_dist=d)\n",
    "embedding = reducer.fit_transform(X_)"
   ]
  },
  {
   "cell_type": "code",
   "execution_count": 324,
   "metadata": {},
   "outputs": [
    {
     "name": "stdout",
     "output_type": "stream",
     "text": [
      "0.42592592592592593\n"
     ]
    },
    {
     "name": "stderr",
     "output_type": "stream",
     "text": [
      "/data/michaelwu/anaconda3/lib/python3.6/site-packages/ipykernel_launcher.py:30: UserWarning: The following kwargs were not used by contour: 'label'\n"
     ]
    },
    {
     "name": "stdout",
     "output_type": "stream",
     "text": [
      "0.7940503432494279\n"
     ]
    },
    {
     "name": "stderr",
     "output_type": "stream",
     "text": [
      "/data/michaelwu/anaconda3/lib/python3.6/site-packages/ipykernel_launcher.py:30: UserWarning: The following kwargs were not used by contour: 'label'\n"
     ]
    },
    {
     "name": "stdout",
     "output_type": "stream",
     "text": [
      "0.9428969359331476\n"
     ]
    },
    {
     "name": "stderr",
     "output_type": "stream",
     "text": [
      "/data/michaelwu/anaconda3/lib/python3.6/site-packages/ipykernel_launcher.py:30: UserWarning: The following kwargs were not used by contour: 'label'\n"
     ]
    },
    {
     "name": "stdout",
     "output_type": "stream",
     "text": [
      "0.24564315352697094\n"
     ]
    },
    {
     "name": "stderr",
     "output_type": "stream",
     "text": [
      "/data/michaelwu/anaconda3/lib/python3.6/site-packages/ipykernel_launcher.py:30: UserWarning: The following kwargs were not used by contour: 'label'\n"
     ]
    },
    {
     "data": {
      "text/plain": [
       "<Figure size 432x288 with 0 Axes>"
      ]
     },
     "metadata": {},
     "output_type": "display_data"
    },
    {
     "data": {
      "text/plain": [
       "<Figure size 288x216 with 0 Axes>"
      ]
     },
     "metadata": {},
     "output_type": "display_data"
    },
    {
     "data": {
      "text/plain": [
       "<Figure size 288x216 with 0 Axes>"
      ]
     },
     "metadata": {},
     "output_type": "display_data"
    },
    {
     "data": {
      "text/plain": [
       "<Figure size 288x216 with 0 Axes>"
      ]
     },
     "metadata": {},
     "output_type": "display_data"
    },
    {
     "data": {
      "image/png": "[encoded data removed]",
      "text/plain": [
       "<Figure size 288x216 with 1 Axes>"
      ]
     },
     "metadata": {
      "needs_background": "light"
     },
     "output_type": "display_data"
    }
   ],
   "source": [
    "from scipy.stats import gaussian_kde\n",
    "def density_estimation(m1, m2):\n",
    "    xmin, xmax = m1.min()-0.5, m1.max()+0.5\n",
    "    ymin, ymax = m2.min()-0.5, m2.max()+0.5\n",
    "    xint = (xmax - xmin) / 100\n",
    "    yint = (ymax - ymin) / 100\n",
    "    X, Y = np.mgrid[xmin:xmax:xint, ymin:ymax:yint]\n",
    "    positions = np.stack([X.ravel(), Y.ravel()], 0)\n",
    "    values = np.stack([m1, m2], 0)\n",
    "    kernel = gaussian_kde(values)\n",
    "    Z = np.reshape(kernel(positions), X.shape)\n",
    "    return X, Y, Z\n",
    "\n",
    "m1, m2 = embedding[:, 0], embedding[:, 1]\n",
    "cont_X, cont_Y, cont_Z = density_estimation(m1, m2)\n",
    "xmin, xmax = m1.min()-0.5, m1.max()+0.5\n",
    "ymin, ymax = m2.min()-0.5, m2.max()+0.5\n",
    "\n",
    "cmap = matplotlib.cm.get_cmap('Greys')\n",
    "for i in range(4):\n",
    "    inds = np.where(Y == i)[0]\n",
    "    legend = sorted(wells_)[i]\n",
    "    state1_inds = [i for i in inds if prob_mat[i][0] > 0.5]\n",
    "    state2_inds = [i for i in inds if prob_mat[i][1] > 0.5]\n",
    "    print(len(state1_inds)/(len(state1_inds) + len(state2_inds)))\n",
    "    plt.clf()\n",
    "    f = plt.figure(figsize=(4, 3))\n",
    "    plt.contourf(cont_X, cont_Y, cont_Z>cont_Z.max()*0.15, levels=1, colors=[cmap(0), cmap(0.12)])\n",
    "    plt.plot(embedding[state2_inds][:, 0], \n",
    "             embedding[state2_inds][:, 1], \n",
    "             '.',\n",
    "             c=state_cmaps[1](0.8), \n",
    "             markersize=3.)\n",
    "    plt.plot(embedding[state1_inds][:, 0], \n",
    "             embedding[state1_inds][:, 1], \n",
    "             '.', \n",
    "             c=state_cmaps[0](0.8), \n",
    "             markersize=3.)\n",
    "    plt.xlim(xmin-0.5, xmax+0.5)\n",
    "    plt.xticks([0, 2, 4, 6, 8])\n",
    "    plt.ylim(ymin-0.5, ymax+0.5)\n",
    "    plt.yticks([-2, 0, 2, 4, 6])\n",
    "#     plt.show()\n",
    "    plt.savefig('NOVEMBER_traj_umap_%s.eps' % (sorted(wells_)[i]))\n",
    "    plt.savefig('NOVEMBER_traj_umap_%s.png' % (sorted(wells_)[i]), dpi=300)"
   ]
  },
  {
   "cell_type": "code",
   "execution_count": null,
   "metadata": {},
   "outputs": [],
   "source": []
  },
  {
   "cell_type": "code",
   "execution_count": 231,
   "metadata": {},
   "outputs": [
    {
     "name": "stderr",
     "output_type": "stream",
     "text": [
      "The PostScript backend does not support transparency; partially transparent artists will be rendered opaque.\n",
      "The PostScript backend does not support transparency; partially transparent artists will be rendered opaque.\n"
     ]
    },
    {
     "data": {
      "text/plain": [
       "<Figure size 432x288 with 0 Axes>"
      ]
     },
     "metadata": {},
     "output_type": "display_data"
    },
    {
     "data": {
      "image/png": "[encoded data removed]",
      "text/plain": [
       "<Figure size 252x216 with 1 Axes>"
      ]
     },
     "metadata": {
      "needs_background": "light"
     },
     "output_type": "display_data"
    }
   ],
   "source": [
    "### KDE of the two states in PC1-PC2 ###\n",
    "classes = sorted(np.unique(Y))\n",
    "weights = prob_mat\n",
    "\n",
    "outlying = np.zeros((X.shape[0],))\n",
    "for i, c in enumerate(classes):\n",
    "    inds = np.where(Y == c)\n",
    "    X_c = X[inds]\n",
    "    median_X_c = np.median(X_c, keepdims=True, axis=0)\n",
    "    outlying[inds] = np.linalg.norm(X_c - median_X_c, axis=1, ord=2)  \n",
    "  \n",
    "outlying = (1 - 0.7 * (outlying - outlying.min())/(outlying.max() - outlying.min())) ** 10.\n",
    "weights = weights * outlying.reshape((-1, 1))\n",
    "\n",
    "plt.clf()\n",
    "f = plt.figure(figsize=(3.5, 3))\n",
    "center1_samples = np.where(weights[:, 0] > weights[:, 1])[0]\n",
    "center2_samples = np.where(weights[:, 1] > weights[:, 0])[0]\n",
    "sns.kdeplot(X[center2_samples][:, 1], \n",
    "            X[center2_samples][:, 2],\n",
    "            cmap=state_cmaps[1], \n",
    "            shade_lowest=False,\n",
    "            n_levels=6,\n",
    "            label='State 2')\n",
    "sns.kdeplot(X[center1_samples][:, 1], \n",
    "            X[center1_samples][:, 2],\n",
    "            cmap=state_cmaps[0], \n",
    "            shade_lowest=False,\n",
    "            n_levels=6,\n",
    "            label='State 1')\n",
    "plt.xlim(-5, 7)\n",
    "plt.ylim(-3, 9)\n",
    "plt.legend()\n",
    "# plt.show()\n",
    "plt.savefig('NOVEMBER_state_KDE.png', dpi=300)\n",
    "plt.savefig('NOVEMBER_state_KDE.eps')"
   ]
  },
  {
   "cell_type": "code",
   "execution_count": null,
   "metadata": {},
   "outputs": [],
   "source": []
  },
  {
   "cell_type": "code",
   "execution_count": null,
   "metadata": {},
   "outputs": [],
   "source": []
  },
  {
   "cell_type": "code",
   "execution_count": 232,
   "metadata": {},
   "outputs": [
    {
     "name": "stdout",
     "output_type": "stream",
     "text": [
      "B2\n"
     ]
    },
    {
     "name": "stderr",
     "output_type": "stream",
     "text": [
      "The PostScript backend does not support transparency; partially transparent artists will be rendered opaque.\n",
      "The PostScript backend does not support transparency; partially transparent artists will be rendered opaque.\n"
     ]
    },
    {
     "name": "stdout",
     "output_type": "stream",
     "text": [
      "B4\n"
     ]
    },
    {
     "name": "stderr",
     "output_type": "stream",
     "text": [
      "The PostScript backend does not support transparency; partially transparent artists will be rendered opaque.\n",
      "The PostScript backend does not support transparency; partially transparent artists will be rendered opaque.\n"
     ]
    },
    {
     "name": "stdout",
     "output_type": "stream",
     "text": [
      "B5\n"
     ]
    },
    {
     "name": "stderr",
     "output_type": "stream",
     "text": [
      "The PostScript backend does not support transparency; partially transparent artists will be rendered opaque.\n",
      "The PostScript backend does not support transparency; partially transparent artists will be rendered opaque.\n"
     ]
    },
    {
     "name": "stdout",
     "output_type": "stream",
     "text": [
      "C5\n"
     ]
    },
    {
     "name": "stderr",
     "output_type": "stream",
     "text": [
      "The PostScript backend does not support transparency; partially transparent artists will be rendered opaque.\n",
      "The PostScript backend does not support transparency; partially transparent artists will be rendered opaque.\n"
     ]
    },
    {
     "data": {
      "text/plain": [
       "<Figure size 432x288 with 0 Axes>"
      ]
     },
     "metadata": {},
     "output_type": "display_data"
    },
    {
     "data": {
      "text/plain": [
       "<Figure size 252x216 with 0 Axes>"
      ]
     },
     "metadata": {},
     "output_type": "display_data"
    },
    {
     "data": {
      "text/plain": [
       "<Figure size 252x216 with 0 Axes>"
      ]
     },
     "metadata": {},
     "output_type": "display_data"
    },
    {
     "data": {
      "text/plain": [
       "<Figure size 252x216 with 0 Axes>"
      ]
     },
     "metadata": {},
     "output_type": "display_data"
    },
    {
     "data": {
      "image/png": "[encoded data removed]",
      "text/plain": [
       "<Figure size 252x216 with 1 Axes>"
      ]
     },
     "metadata": {
      "needs_background": "light"
     },
     "output_type": "display_data"
    }
   ],
   "source": [
    "### Scatter (Arrow) plot of trajectory level PC1 - PC2 - speed ###\n",
    "\n",
    "# traj_vector_K2 = {}\n",
    "# K = 2\n",
    "# for t in trajs:\n",
    "#     well = t[:2]\n",
    "#     if not well in wells_:\n",
    "#         continue\n",
    "#     traj_full_dats = np.stack([dats[well][ind] for ind in traj_inds[t]], 0)\n",
    "#     segs = np.linspace(0, len(traj_inds[t]), K+1).astype(int)\n",
    "#     vs = []\n",
    "#     for i in range(len(segs) - 1):\n",
    "#         v = traj_full_dats[segs[i]:segs[i+1]].mean(0)\n",
    "#         vs.append(v)\n",
    "#     traj_vector_K2[t] = vs\n",
    "\n",
    "# state_lengths = [[], []]\n",
    "speed_ticks = [4., 8., 16., 32., 64., 128.]\n",
    "for i_w, well in enumerate(sorted(wells_)):\n",
    "    print(well)\n",
    "    df = {'PC1': traj_PC1[well],\n",
    "          'PC2': traj_PC2[well],\n",
    "          'Speed': traj_speed[well],\n",
    "          'State': traj_states[well],\n",
    "          'Name': traj_names[well]}\n",
    "\n",
    "    plt.clf()\n",
    "    f = plt.figure(figsize=(3.5, 3))\n",
    "    random_selected_inds = np.random.choice(np.arange(len(df['Name'])), (300,), replace=False)\n",
    "    for i in random_selected_inds:\n",
    "        t = df['Name'][i]\n",
    "        if not t in traj_orientations:\n",
    "            continue\n",
    "        merged_ang_diff = traj_orientations[t]\n",
    "        merged_d = np.exp(df['Speed'][i])/200\n",
    "        #merged_d = (1 - traj_orientation_stds[t])/2 # Longer marker indicates more consistent movement (smaller circular SD)\n",
    "        arrow_vec = (merged_d * np.sin(merged_ang_diff), merged_d * np.cos(merged_ang_diff))\n",
    "        x_center = df['PC1'][i]\n",
    "        y_center = df['PC2'][i]\n",
    "        dx = arrow_vec[0]\n",
    "        dy = arrow_vec[1]\n",
    "        \n",
    "#         x_center = np.mean([traj_vector_K2[t][i][0] for i in range(len(traj_vector_K2[t]))])\n",
    "#         y_center = np.mean([traj_vector_K2[t][i][1] for i in range(len(traj_vector_K2[t]))])\n",
    "#         dx = traj_vector_K2[t][-1][0] - traj_vector_K2[t][0][0]\n",
    "#         dy = traj_vector_K2[t][-1][1] - traj_vector_K2[t][0][1]\n",
    "#         dx = dx/4\n",
    "#         dy = dy/4\n",
    "        \n",
    "        x = x_center - dx/2\n",
    "        y = y_center - dy/2\n",
    "\n",
    "        st = df['State'][i]\n",
    "        if np.max(st) < 0.9:\n",
    "            continue\n",
    "        c = state_cmaps[np.argmax(st)](0.8)\n",
    "        plt.arrow(x, y, dx, dy, color=c, width=0.005, head_width=0.)\n",
    "#         plt.plot([x_center], [y_center], c=c, marker='*', markersize=5.)\n",
    "#         state_lengths[np.argmax(st)].append(np.sqrt(dx**2 + dy**2))\n",
    "\n",
    "    plt.xlabel(\"\")\n",
    "    plt.ylabel(\"\")\n",
    "    plt.xlim(-5, 7)\n",
    "    plt.ylim(-3, 9)\n",
    "    plt.text(bins_PC1[0], bins_PC2[1], legends[well], fontdict={\"size\": 16})\n",
    "    bbox = dict(boxstyle='round', facecolor=(1., 1., 1., 0.5), edgecolor=(0.5, 0.5, 0.5, 0.5), alpha=0.5)\n",
    "    well_prob = np.stack(traj_states[well], 0).mean(0)\n",
    "    plt.text(bins_PC1[-11], \n",
    "             bins_PC2[-2], \n",
    "             'State 1 (blue): %.3f\\nState 2 (red): %.3f' % (well_prob[0], well_prob[1]), \n",
    "             fontdict={\"size\": 10},\n",
    "             bbox=bbox)\n",
    "    plt.tight_layout()\n",
    "#     plt.show()\n",
    "    plt.savefig(\"NOVEMBER_%s_traj_state_PC1_PC2_speed.png\" % well, dpi=300)\n",
    "    plt.savefig(\"NOVEMBER_%s_traj_state_PC1_PC2_speed.eps\" % well)"
   ]
  },
  {
   "cell_type": "code",
   "execution_count": null,
   "metadata": {},
   "outputs": [],
   "source": []
  },
  {
   "cell_type": "code",
   "execution_count": null,
   "metadata": {},
   "outputs": [],
   "source": []
  },
  {
   "cell_type": "code",
   "execution_count": 233,
   "metadata": {},
   "outputs": [
    {
     "name": "stderr",
     "output_type": "stream",
     "text": [
      "The PostScript backend does not support transparency; partially transparent artists will be rendered opaque.\n",
      "The PostScript backend does not support transparency; partially transparent artists will be rendered opaque.\n",
      "The PostScript backend does not support transparency; partially transparent artists will be rendered opaque.\n",
      "The PostScript backend does not support transparency; partially transparent artists will be rendered opaque.\n",
      "The PostScript backend does not support transparency; partially transparent artists will be rendered opaque.\n",
      "The PostScript backend does not support transparency; partially transparent artists will be rendered opaque.\n",
      "The PostScript backend does not support transparency; partially transparent artists will be rendered opaque.\n",
      "The PostScript backend does not support transparency; partially transparent artists will be rendered opaque.\n"
     ]
    },
    {
     "data": {
      "text/plain": [
       "<Figure size 432x288 with 0 Axes>"
      ]
     },
     "metadata": {},
     "output_type": "display_data"
    },
    {
     "data": {
      "text/plain": [
       "<Figure size 252x252 with 0 Axes>"
      ]
     },
     "metadata": {},
     "output_type": "display_data"
    },
    {
     "data": {
      "text/plain": [
       "<Figure size 252x144 with 0 Axes>"
      ]
     },
     "metadata": {},
     "output_type": "display_data"
    },
    {
     "data": {
      "text/plain": [
       "<Figure size 252x144 with 0 Axes>"
      ]
     },
     "metadata": {},
     "output_type": "display_data"
    },
    {
     "data": {
      "image/png": "[encoded data removed]",
      "text/plain": [
       "<Figure size 252x144 with 1 Axes>"
      ]
     },
     "metadata": {
      "needs_background": "light"
     },
     "output_type": "display_data"
    }
   ],
   "source": [
    "### Histogram of state orientations - patch level ###\n",
    "# orient_states = [[] for _ in range(2)]\n",
    "# displacement_states = [[] for _ in range(2)]\n",
    "# for i_w, well in enumerate(sorted(wells_)):\n",
    "#     df = {'PC1': traj_PC1[well],\n",
    "#           'PC2': traj_PC2[well],\n",
    "#           'Speed': traj_speed[well],\n",
    "#           'State': traj_states[well],\n",
    "#           'Name': traj_names[well]}\n",
    "#     for i in range(len(df['Name'])):\n",
    "#         t = df['Name'][i]\n",
    "#         if not t in traj_orientations:\n",
    "#             continue\n",
    "#         st = df['State'][i]\n",
    "#         traj_fs = [fs[well][ind] for ind in traj_inds[t]]\n",
    "#         orient_states[np.argmax(st)].extend([patch_orientations[f] for f in traj_fs if f in patch_orientations])\n",
    "#         displacement_states[np.argmax(st)].extend([patch_displacements[f] for f in traj_fs if f in patch_displacements])\n",
    "\n",
    "# plt.clf()\n",
    "# f = plt.figure(figsize=(3., 3.))\n",
    "# ax = plt.subplot(111, projection='polar')\n",
    "# bins = np.arange(-np.pi/2, np.pi/2 + np.pi/21, np.pi/21)\n",
    "# for i, sts in enumerate(orient_states):\n",
    "#     line, _ = np.histogram(sts, bins=bins)\n",
    "#     _x = (bins[:-1] + bins[1:])/2\n",
    "#     ax.plot(_x, line/sum(line), color=state_cmaps[i](0.8), label='State %d' % (i + 1))\n",
    "# ax.set_theta_zero_location('N')\n",
    "# ax.legend(fontsize=10, loc=(0.28, 0.08))\n",
    "# # plt.show()\n",
    "# plt.savefig(\"NOVEMBER_state_orient.png\", dpi=300)\n",
    "# plt.savefig(\"NOVEMBER_state_orient.eps\")\n",
    "\n",
    "### Histogram of state displacements - patch level ###\n",
    "# plt.clf()\n",
    "# f = plt.figure(figsize=(3.5, 2))\n",
    "# bins = np.linspace(0., 6.0, 15)\n",
    "# for i, sts in enumerate(displacement_states):\n",
    "#     line, _ = np.histogram([np.log(s * 0.325 / 0.1518 + 1e-9) for s in sts], bins=bins)\n",
    "#     plt.plot((bins[:-1] + bins[1:])/2, line/sum(line), color=state_cmaps[i](0.8), label='State %d' % (i + 1))\n",
    "# speed_ticks = [1., 10., 100.]\n",
    "# speed_ticks_labels = ['10$^0$', '10$^1$', '10$^2$']\n",
    "# plt.gca().set_xticks(np.log(speed_ticks))\n",
    "# plt.gca().set_xticklabels(speed_ticks_labels)\n",
    "# plt.gca().set_yticks([0., 0.1, 0.2])\n",
    "# plt.legend(fontsize=10, loc=2)\n",
    "# # plt.show()\n",
    "# plt.savefig(\"NOVEMBER_state_displacement.png\", dpi=300)\n",
    "# plt.savefig(\"NOVEMBER_state_displacement.eps\")\n",
    "\n",
    "\n",
    "\n",
    "\n",
    "\n",
    "### Histogram of state orientations - traj level ###\n",
    "orient_states = [[] for _ in range(2)]\n",
    "orient_stds_states = [[] for _ in range(2)]\n",
    "displacement_states = [[] for _ in range(2)]\n",
    "for i_w, well in enumerate(sorted(wells_)):\n",
    "    df = {'PC1': traj_PC1[well],\n",
    "          'PC2': traj_PC2[well],\n",
    "          'Speed': traj_speed[well],\n",
    "          'State': traj_states[well],\n",
    "          'Name': traj_names[well]}\n",
    "    for i in range(len(df['Name'])):\n",
    "        t = df['Name'][i]\n",
    "        if not t in traj_orientations:\n",
    "            continue\n",
    "        st = df['State'][i]\n",
    "        # merged_ang_diff = traj_orientations[t]\n",
    "        # orient_states[np.argmax(st)].append(merged_ang_diff)\n",
    "        traj_fs = [fs[well][ind] for ind in traj_inds[t]]\n",
    "        orient_states[np.argmax(st)].append(traj_orientations[t])\n",
    "        orient_stds_states[np.argmax(st)].append(traj_orientation_stds[t])\n",
    "        displacement_states[np.argmax(st)].append(np.mean([patch_displacements[f] for f in traj_fs if f in patch_displacements]))\n",
    "\n",
    "plt.clf()\n",
    "f = plt.figure(figsize=(3.5, 3.5))\n",
    "ax = plt.subplot(111, projection='polar')\n",
    "bins = np.arange(-np.pi/2, np.pi/2 + np.pi/41, np.pi/41)\n",
    "for i, sts in enumerate(orient_states):\n",
    "    line, _ = np.histogram(sts, bins=bins)\n",
    "    _x = (bins[:-1] + bins[1:])/2\n",
    "    ax.plot(_x, line/line.sum(), color=state_cmaps[i](0.8), label='State %d' % (i + 1))\n",
    "ax.set_theta_zero_location('N')\n",
    "ax.set_rorigin(-0.15)\n",
    "ax.set_rticks([0., 0.1, 0.2])\n",
    "ax.set_thetagrids([-90, -45, 0, 45, 90])\n",
    "ax.set_thetamin(-90)\n",
    "ax.set_thetamax(90)\n",
    "ax.legend(fontsize=10, loc=(0., 0.7))\n",
    "# plt.show()\n",
    "plt.savefig(\"NOVEMBER_traj_state_orient_polar.png\", dpi=300)\n",
    "plt.savefig(\"NOVEMBER_traj_state_orient_polar.eps\")\n",
    "\n",
    "\n",
    "plt.clf()\n",
    "f = plt.figure(figsize=(3.5, 2.))\n",
    "bins = np.arange(-np.pi/2, np.pi/2 + np.pi/21, np.pi/21)\n",
    "for i, sts in enumerate(orient_states):\n",
    "    line, _ = np.histogram(sts, bins=bins)\n",
    "    _x = (bins[:-1] + bins[1:])/2\n",
    "    plt.plot(_x, line/line.sum(), color=state_cmaps[i](0.8), label='State %d' % (i + 1))\n",
    "plt.gca().set_xticks([-np.pi/2, -np.pi/4, 0, np.pi/4, np.pi/2])\n",
    "plt.gca().set_xticklabels(['-90°', '-45°', '0°', '45°', '90°'])\n",
    "plt.legend()\n",
    "# plt.show()\n",
    "plt.savefig(\"NOVEMBER_traj_state_orient_flat.png\", dpi=300)\n",
    "plt.savefig(\"NOVEMBER_traj_state_orient_flat.eps\")\n",
    "\n",
    "### Histogram of state displacements - traj level ###\n",
    "plt.clf()\n",
    "f = plt.figure(figsize=(3.5, 2))\n",
    "bins = np.linspace(0., 6.0, 15)\n",
    "for i, sts in enumerate(displacement_states):\n",
    "    line, _ = np.histogram([np.log(s * 0.325 / 0.1518 + 1e-9) for s in sts], bins=bins)\n",
    "    plt.plot((bins[:-1] + bins[1:])/2, line/len(sts), color=state_cmaps[i](0.8), label='State %d' % (i + 1))\n",
    "speed_ticks = [1., 10., 100.]\n",
    "speed_ticks_labels = ['10$^0$', '10$^1$', '10$^2$']\n",
    "plt.gca().set_xticks(np.log(speed_ticks))\n",
    "plt.gca().set_xticklabels(speed_ticks_labels)\n",
    "plt.gca().set_yticks([0., 0.1, 0.2, 0.3])\n",
    "plt.legend(fontsize=10, loc=2)\n",
    "# plt.show()\n",
    "plt.savefig(\"NOVEMBER_traj_state_displacement.png\", dpi=300)\n",
    "plt.savefig(\"NOVEMBER_traj_state_displacement.eps\")\n",
    "\n",
    "### Histogram of state orientation stds - traj level ###\n",
    "plt.clf()\n",
    "f = plt.figure(figsize=(3.5, 2))\n",
    "bins = np.linspace(0., 1.0, 20)\n",
    "for i, sts in enumerate(orient_stds_states):\n",
    "    line, _ = np.histogram(sts, bins=bins)\n",
    "    plt.plot((bins[:-1] + bins[1:])/2, line/len(sts), color=state_cmaps[i](0.8), label='State %d' % (i + 1))\n",
    "plt.legend(fontsize=10)\n",
    "# plt.show()\n",
    "plt.savefig(\"NOVEMBER_traj_state_orient_std.png\", dpi=300)\n",
    "plt.savefig(\"NOVEMBER_traj_state_orient_std.eps\")\n"
   ]
  },
  {
   "cell_type": "code",
   "execution_count": null,
   "metadata": {},
   "outputs": [],
   "source": []
  },
  {
   "cell_type": "code",
   "execution_count": null,
   "metadata": {},
   "outputs": [],
   "source": []
  },
  {
   "cell_type": "code",
   "execution_count": null,
   "metadata": {},
   "outputs": [],
   "source": [
    "# ### Histogram of well orientations - patch level ###\n",
    "# plt.clf()\n",
    "# f = plt.figure(figsize=(3., 3.))\n",
    "# ax = plt.subplot(111, projection='polar')\n",
    "# bins = np.arange(-np.pi/2, np.pi/2 + np.pi/21, np.pi/21)\n",
    "# for i_w, well in enumerate(sorted(wells_)):\n",
    "#     df = {'PC1': traj_PC1[well],\n",
    "#           'PC2': traj_PC2[well],\n",
    "#           'Speed': traj_speed[well],\n",
    "#           'State': traj_states[well],\n",
    "#           'Name': traj_names[well]}\n",
    "#     orient_state = []\n",
    "#     for i in range(len(df['Name'])):\n",
    "#         t = df['Name'][i]\n",
    "#         if not t in traj_orientations:\n",
    "#             continue\n",
    "#         traj_fs = [fs[well][ind] for ind in traj_inds[t]]\n",
    "#         orient_state.extend([patch_orientations[f] for f in traj_fs if f in patch_orientations])\n",
    "#     line, _ = np.histogram(orient_state, bins=bins)\n",
    "#     _x = (bins[:-1] + bins[1:])/2\n",
    "#     ax.plot(_x, line/sum(line), color=cmaps[well](0.8), label=legends[well])\n",
    "# ax.set_theta_zero_location('N')\n",
    "# ax.legend(fontsize=8, loc=(0., 0.))\n",
    "# plt.savefig(\"NOVEMBER_well_orient.png\", dpi=300)\n",
    "# plt.savefig(\"NOVEMBER_well_orient.eps\")\n",
    "\n",
    "# ### Histogram of well displacement - patch level ###\n",
    "# plt.clf()\n",
    "# f = plt.figure(figsize=(3.5, 2))\n",
    "# bins = np.linspace(0., 6.0, 15)\n",
    "# for i_w, well in enumerate(sorted(wells_)):\n",
    "#     df = {'PC1': traj_PC1[well],\n",
    "#           'PC2': traj_PC2[well],\n",
    "#           'Speed': traj_speed[well],\n",
    "#           'State': traj_states[well],\n",
    "#           'Name': traj_names[well]}\n",
    "#     displacement_state = []\n",
    "#     for i in range(len(df['Name'])):\n",
    "#         t = df['Name'][i]\n",
    "#         if not t in traj_orientations:\n",
    "#             continue\n",
    "#         traj_fs = [fs[well][ind] for ind in traj_inds[t]]\n",
    "#         displacement_state.extend([patch_displacements[f] for f in traj_fs if f in patch_displacements])\n",
    "#     line, _ = np.histogram([np.log(s * 0.325 / 0.1518 + 1e-9) for s in displacement_state], bins=bins)\n",
    "#     _x = (bins[:-1] + bins[1:])/2\n",
    "#     plt.plot(_x, line/len(displacement_state), color=cmaps[well](0.8), label=legends[well])\n",
    "    \n",
    "# speed_ticks = [1., 10., 100.]\n",
    "# speed_ticks_labels = ['10$^0$', '10$^1$', '10$^2$']\n",
    "# plt.gca().set_xticks(np.log(speed_ticks))\n",
    "# plt.gca().set_xticklabels(speed_ticks_labels)\n",
    "# plt.gca().set_yticks([0., 0.1, 0.2])\n",
    "# plt.legend(fontsize=8)\n",
    "# plt.savefig(\"NOVEMBER_well_displacement.png\", dpi=300)\n",
    "# plt.savefig(\"NOVEMBER_well_displacement.eps\")\n",
    "\n",
    "# ### Histogram of well orientations - traj level ###\n",
    "# plt.clf()\n",
    "# f = plt.figure(figsize=(3., 3.))\n",
    "# ax = plt.subplot(111, projection='polar')\n",
    "# bins = np.arange(-np.pi/2, np.pi/2 + np.pi/21, np.pi/21)\n",
    "# for i_w, well in enumerate(sorted(wells_)):\n",
    "#     df = {'PC1': traj_PC1[well],\n",
    "#           'PC2': traj_PC2[well],\n",
    "#           'Speed': traj_speed[well],\n",
    "#           'State': traj_states[well],\n",
    "#           'Name': traj_names[well]}\n",
    "#     orient_state = []\n",
    "#     for i in range(len(df['Name'])):\n",
    "#         t = df['Name'][i]\n",
    "#         if not t in traj_orientations:\n",
    "#             continue\n",
    "#         orient_state.append(traj_orientations[t])\n",
    "#     line, _ = np.histogram(orient_state, bins=bins)\n",
    "#     _x = (bins[:-1] + bins[1:])/2\n",
    "#     ax.plot(_x, line/sum(line), color=cmaps[well](0.8), label=legends[well])\n",
    "# ax.set_theta_zero_location('N')\n",
    "# ax.legend(fontsize=8, loc=(0., 0.))\n",
    "# plt.savefig(\"NOVEMBER_traj_well_orient.png\", dpi=300)\n",
    "# plt.savefig(\"NOVEMBER_traj_well_orient.eps\")\n",
    "\n",
    "# ### Histogram of well displacements - traj level ###\n",
    "# plt.clf()\n",
    "# f = plt.figure(figsize=(3.5, 2))\n",
    "# bins = np.linspace(0., 6.0, 15)\n",
    "# for i_w, well in enumerate(sorted(wells_)):\n",
    "#     df = {'PC1': traj_PC1[well],\n",
    "#           'PC2': traj_PC2[well],\n",
    "#           'Speed': traj_speed[well],\n",
    "#           'State': traj_states[well],\n",
    "#           'Name': traj_names[well]}\n",
    "#     displacement_state = []\n",
    "#     for i in range(len(df['Name'])):\n",
    "#         t = df['Name'][i]\n",
    "#         if not t in traj_orientations:\n",
    "#             continue\n",
    "#         traj_fs = [fs[well][ind] for ind in traj_inds[t]]\n",
    "#         displacement_state.append(np.mean([patch_displacements[f] for f in traj_fs if f in patch_displacements]))\n",
    "#     line, _ = np.histogram([np.log(s * 0.325 / 0.1518 + 1e-9) for s in displacement_state], bins=bins)\n",
    "#     _x = (bins[:-1] + bins[1:])/2\n",
    "#     plt.plot(_x, line/len(displacement_state), color=cmaps[well](0.8), label=legends[well])\n",
    "# speed_ticks = [1., 10., 100.]\n",
    "# speed_ticks_labels = ['10$^0$', '10$^1$', '10$^2$']\n",
    "# plt.gca().set_xticks(np.log(speed_ticks))\n",
    "# plt.gca().set_xticklabels(speed_ticks_labels)\n",
    "# plt.gca().set_yticks([0., 0.1, 0.2])\n",
    "# plt.legend(fontsize=8)\n",
    "# plt.savefig(\"NOVEMBER_traj_well_displacement.png\", dpi=300)\n",
    "# plt.savefig(\"NOVEMBER_traj_well_displacement.eps\")\n",
    "\n",
    "# ### Histogram of well orientation stds - traj level ###\n",
    "# plt.clf()\n",
    "# f = plt.figure(figsize=(3.5, 2))\n",
    "# bins = np.linspace(0., 1.0, 20)\n",
    "\n",
    "# for i_w, well in enumerate(sorted(wells_)):\n",
    "#     df = {'PC1': traj_PC1[well],\n",
    "#           'PC2': traj_PC2[well],\n",
    "#           'Speed': traj_speed[well],\n",
    "#           'State': traj_states[well],\n",
    "#           'Name': traj_names[well]}\n",
    "#     orient_std_state = []\n",
    "#     for i in range(len(df['Name'])):\n",
    "#         t = df['Name'][i]\n",
    "#         if not t in traj_orientations:\n",
    "#             continue\n",
    "#         orient_std_state.append(traj_orientation_stds[t])\n",
    "#     line, _ = np.histogram(orient_std_state, bins=bins)\n",
    "#     _x = (bins[:-1] + bins[1:])/2\n",
    "#     plt.plot(_x, line/len(orient_std_state), color=cmaps[well](0.8), label=legends[well])\n",
    "# plt.legend(fontsize=8)\n",
    "# plt.savefig(\"NOVEMBER_traj_well_orient_std.png\", dpi=300)\n",
    "# plt.savefig(\"NOVEMBER_traj_well_orient_std.eps\")"
   ]
  },
  {
   "cell_type": "code",
   "execution_count": null,
   "metadata": {},
   "outputs": [],
   "source": []
  },
  {
   "cell_type": "code",
   "execution_count": null,
   "metadata": {},
   "outputs": [],
   "source": []
  },
  {
   "cell_type": "code",
   "execution_count": 234,
   "metadata": {},
   "outputs": [
    {
     "name": "stdout",
     "output_type": "stream",
     "text": [
      "0\n",
      "1\n"
     ]
    }
   ],
   "source": [
    "### Collect samples for each state centers ###\n",
    "center_samples = []\n",
    "prob_mat = get_merged_prob_mat(X, Y, centers, stds, well_prob_mat)\n",
    "for i_c, c in enumerate(centers):\n",
    "    print(i_c)\n",
    "    samples = []\n",
    "    inds = np.where(prob_mat[:, i_c] > 0.8)[0]\n",
    "    for i in inds:\n",
    "        if (np.abs(X[i] - c)/std_unit)[:3].mean() < 0.5:\n",
    "            samples.append(t_arrays[i])\n",
    "    samples = sorted(samples, key=lambda x: (np.array(traj_properties[x][0]).std(0)[:2]).sum())\n",
    "    center_samples.append(samples)"
   ]
  },
  {
   "cell_type": "code",
   "execution_count": null,
   "metadata": {},
   "outputs": [],
   "source": []
  },
  {
   "cell_type": "code",
   "execution_count": null,
   "metadata": {},
   "outputs": [],
   "source": [
    "### Sample trajectories with traj marked ###\n",
    "np.random.seed(130)\n",
    "traj_represented = [\n",
    "    'B5-Site_2/16',\n",
    "    'C4-Site_5/143',\n",
    "    'C4-Site_3/23',\n",
    "    'C5-Site_1/98',\n",
    "    'C5-Site_2/307',\n",
    "    'C5-Site_1/299'\n",
    "]\n",
    "cs = [(171, 100, 23)] * 3 + [(26, 20, 188)] * 3\n",
    "\n",
    "for t, c in zip(traj_represented, cs):\n",
    "    well = t[:2]\n",
    "    traj = traj_inds[t]\n",
    "    \n",
    "    site = t.split('/')[0]\n",
    "    image_stack = np.load(os.path.join(raw_folder, '%s.npy' % site))\n",
    "    \n",
    "    t_pos = traj_positions[t]\n",
    "    init_t_point = sorted(t_pos.keys())[0]\n",
    "    init_position = t_pos[init_t_point]\n",
    "    if init_position[0] < 256 or init_position[0] > (2048-256) or init_position[1] < 256 or init_position[1] > (2048-256):\n",
    "        continue\n",
    "\n",
    "    f0 = image_stack[init_t_point, \n",
    "                     (init_position[0]-256):(init_position[0]+256),\n",
    "                     (init_position[1]-256):(init_position[1]+256),\n",
    "                     0]\n",
    "    \n",
    "    f0 = enhance_contrast(f0, phase_a, phase_b)\n",
    "    mat = np.zeros((f0.shape[0], f0.shape[1], 3), dtype='uint8')\n",
    "    mat[:, :] = (np.expand_dims(f0, 2) / 256).astype('uint8')\n",
    "    try:\n",
    "        t_pos = traj_positions[t]\n",
    "        positions = np.stack([t_pos[k] for k in sorted(t_pos.keys())])\n",
    "        center_position = positions[0] - np.array([256, 256])\n",
    "        for i in range(positions.shape[0] - 1):\n",
    "            start = positions[i] - center_position\n",
    "            end = positions[i + 1] - center_position\n",
    "            mat = cv2.line(mat, (start[1], start[0]), (end[1], end[0]), c, thickness=2)\n",
    "        cv2.imwrite('NOVEMBER_center_sample_%s.png' % t.replace('/', '_'), mat)\n",
    "    except Exception as e:\n",
    "        print(e)\n"
   ]
  },
  {
   "cell_type": "code",
   "execution_count": null,
   "metadata": {},
   "outputs": [],
   "source": []
  },
  {
   "cell_type": "code",
   "execution_count": 235,
   "metadata": {},
   "outputs": [],
   "source": [
    "### Calcualte Trajectory MSDs ###\n",
    "MSD_length = 30\n",
    "\n",
    "# MSD by states\n",
    "center_cut_ensembles = []\n",
    "for i_c, c in enumerate(centers):\n",
    "    target_trajs = center_samples[i_c]\n",
    "    cut_ensemble = []\n",
    "    for t in target_trajs:\n",
    "        t_end = max(traj_positions[t].keys()) + 1\n",
    "        for t_start in range(t_end - MSD_length):\n",
    "            if t_start in traj_positions[t]:\n",
    "                s_traj = {(t_now - t_start): traj_positions[t][t_now] \\\n",
    "                    for t_now in range(t_start, t_start+MSD_length) if t_now in traj_positions[t]}\n",
    "                cut_ensemble.append(s_traj)\n",
    "    center_cut_ensembles.append(cut_ensemble)\n",
    "\n",
    "center_MSDs = [{i: [] for i in range(MSD_length)} for _ in range(len(centers))]\n",
    "for i_c, cut_ensemble in enumerate(center_cut_ensembles):\n",
    "    for cut in cut_ensemble:\n",
    "        for i in range(MSD_length):\n",
    "            if i in cut:\n",
    "                center_MSDs[i_c][i].append(np.square(cut[i] - cut[0]).sum() * 0.325**2) # unit of um^2\n",
    "\n",
    "# MSD all and MSD by well\n",
    "all_cut_ensembles = []\n",
    "well_cut_ensembles = {w: [] for w in wells_}\n",
    "for t in trajs:\n",
    "    well = t[:2]\n",
    "    if not well in wells_:\n",
    "        continue\n",
    "    t_end = max(traj_positions[t].keys()) + 1\n",
    "    for t_start in range(t_end - MSD_length):\n",
    "        if t_start in traj_positions[t]:\n",
    "            s_traj = {(t_now - t_start): traj_positions[t][t_now] \\\n",
    "                for t_now in range(t_start, t_start+MSD_length) if t_now in traj_positions[t]}\n",
    "            all_cut_ensembles.append(s_traj)\n",
    "            well_cut_ensembles[well].append(s_traj)\n",
    "\n",
    "all_MSDs = {i: [] for i in range(MSD_length)}\n",
    "for cut in all_cut_ensembles:\n",
    "    for i in range(MSD_length):\n",
    "        if i in cut:\n",
    "            all_MSDs[i].append(np.square(cut[i] - cut[0]).sum() * 0.325**2) # unit of um^2\n",
    "\n",
    "\n",
    "well_MSDs = {w: {i: [] for i in range(MSD_length)} for w in wells_}\n",
    "for w, cut_ensemble in well_cut_ensembles.items():\n",
    "    for cut in cut_ensemble:\n",
    "        for i in range(MSD_length):\n",
    "            if i in cut:\n",
    "                well_MSDs[w][i].append(np.square(cut[i] - cut[0]).sum() * 0.325**2) # unit of um^2\n"
   ]
  },
  {
   "cell_type": "code",
   "execution_count": null,
   "metadata": {},
   "outputs": [],
   "source": []
  },
  {
   "cell_type": "code",
   "execution_count": 236,
   "metadata": {},
   "outputs": [
    {
     "name": "stdout",
     "output_type": "stream",
     "text": [
      "State 1: 169.811290 * t ^ (0.883765)\n",
      "0.9970488672296928\n",
      "State 2: 633.921190 * t ^ (0.929082)\n",
      "0.9981241444767347\n"
     ]
    },
    {
     "name": "stderr",
     "output_type": "stream",
     "text": [
      "The PostScript backend does not support transparency; partially transparent artists will be rendered opaque.\n",
      "The PostScript backend does not support transparency; partially transparent artists will be rendered opaque.\n"
     ]
    },
    {
     "data": {
      "text/plain": [
       "<Figure size 432x288 with 0 Axes>"
      ]
     },
     "metadata": {},
     "output_type": "display_data"
    },
    {
     "data": {
      "image/png": "[encoded data removed]",
      "text/plain": [
       "<Figure size 252x345.6 with 1 Axes>"
      ]
     },
     "metadata": {
      "needs_background": "light"
     },
     "output_type": "display_data"
    }
   ],
   "source": [
    "### Plot MSD ###\n",
    "from matplotlib.ticker import NullLocator\n",
    "import sklearn\n",
    "from sklearn.linear_model import LinearRegression\n",
    "\n",
    "x = np.log(np.arange(1, MSD_length) * 0.1518) # log of hour\n",
    "    \n",
    "\n",
    "plt.clf()\n",
    "f = plt.figure(figsize=(3.5, 4.8))\n",
    "for i_c, MSDs in enumerate(center_MSDs):\n",
    "    y_center = [np.log(np.mean(MSDs[i])) for i in np.arange(1, MSD_length)] # log of um^2\n",
    "    reg = LinearRegression(fit_intercept=True).fit(x.reshape((-1, 1)), np.array(y_center))\n",
    "    print(\"State %d: %f * t ^ (%f)\" % (i_c + 1, np.exp(reg.intercept_), reg.coef_[0]))\n",
    "    y_pred = x * reg.coef_ + reg.intercept_\n",
    "    print(sklearn.metrics.r2_score(y_pred, y_center))\n",
    "    plt.plot(x, y_center, '.', c=state_cmaps[i_c](0.8), label=\"State %d\" % (i_c + 1))\n",
    "    plt.plot(x, y_pred, '--', c=state_cmaps[i_c](0.8), linewidth=0.8)\n",
    "xticks = np.array([0.25, 0.5, 1, 2, 4]) # hour\n",
    "yticks = np.array([10, 100, 1000, 10000]) # um^2\n",
    "yticks_labels = [ '10$^1$', '10$^2$', '10$^3$', '10$^4$']\n",
    "yticks_positions = np.log(yticks) # same adjustment for imshow\n",
    "plt.gca().set_xticks(np.log(xticks))\n",
    "plt.gca().set_xticklabels(xticks)\n",
    "plt.gca().xaxis.set_minor_locator(NullLocator())\n",
    "plt.gca().set_yticks(yticks_positions)\n",
    "plt.gca().set_yticklabels(yticks_labels)\n",
    "plt.legend()\n",
    "# plt.show()\n",
    "plt.savefig(\"NOVEMBER_state_MSD.png\", dpi=300)\n",
    "plt.savefig(\"NOVEMBER_state_MSD.eps\")"
   ]
  },
  {
   "cell_type": "code",
   "execution_count": null,
   "metadata": {},
   "outputs": [],
   "source": []
  },
  {
   "cell_type": "code",
   "execution_count": 237,
   "metadata": {},
   "outputs": [
    {
     "name": "stderr",
     "output_type": "stream",
     "text": [
      "/data/michaelwu/anaconda3/lib/python3.6/site-packages/ipykernel_launcher.py:18: RuntimeWarning: invalid value encountered in true_divide\n",
      "/data/michaelwu/anaconda3/lib/python3.6/site-packages/ipykernel_launcher.py:45: UserWarning: aspect is not supported for Axes with xscale=log, yscale=linear\n",
      "/data/michaelwu/anaconda3/lib/python3.6/site-packages/ipykernel_launcher.py:59: UserWarning: aspect is not supported for Axes with xscale=log, yscale=linear\n",
      "/data/michaelwu/anaconda3/lib/python3.6/site-packages/ipykernel_launcher.py:60: UserWarning: aspect is not supported for Axes with xscale=log, yscale=linear\n",
      "The PostScript backend does not support transparency; partially transparent artists will be rendered opaque.\n",
      "The PostScript backend does not support transparency; partially transparent artists will be rendered opaque.\n",
      "/data/michaelwu/anaconda3/lib/python3.6/site-packages/ipykernel_launcher.py:18: RuntimeWarning: invalid value encountered in true_divide\n",
      "/data/michaelwu/anaconda3/lib/python3.6/site-packages/ipykernel_launcher.py:45: UserWarning: aspect is not supported for Axes with xscale=log, yscale=linear\n",
      "/data/michaelwu/anaconda3/lib/python3.6/site-packages/ipykernel_launcher.py:59: UserWarning: aspect is not supported for Axes with xscale=log, yscale=linear\n",
      "/data/michaelwu/anaconda3/lib/python3.6/site-packages/ipykernel_launcher.py:60: UserWarning: aspect is not supported for Axes with xscale=log, yscale=linear\n",
      "The PostScript backend does not support transparency; partially transparent artists will be rendered opaque.\n",
      "The PostScript backend does not support transparency; partially transparent artists will be rendered opaque.\n"
     ]
    },
    {
     "data": {
      "text/plain": [
       "<Figure size 432x288 with 0 Axes>"
      ]
     },
     "metadata": {},
     "output_type": "display_data"
    },
    {
     "data": {
      "text/plain": [
       "<Figure size 432x288 with 0 Axes>"
      ]
     },
     "metadata": {},
     "output_type": "display_data"
    },
    {
     "name": "stderr",
     "output_type": "stream",
     "text": [
      "/data/michaelwu/anaconda3/lib/python3.6/site-packages/IPython/core/pylabtools.py:132: UserWarning: aspect is not supported for Axes with xscale=log, yscale=linear\n",
      "  fig.canvas.print_figure(bytes_io, **kw)\n"
     ]
    },
    {
     "data": {
      "image/png": "[encoded data removed]",
      "text/plain": [
       "<Figure size 432x288 with 1 Axes>"
      ]
     },
     "metadata": {
      "needs_background": "light"
     },
     "output_type": "display_data"
    }
   ],
   "source": [
    "### Plot MSD2 ###\n",
    "from matplotlib.ticker import NullLocator\n",
    "from sklearn.linear_model import LinearRegression\n",
    "\n",
    "def plot_density_map(MSD_list, cmap, label='None'):\n",
    "    x = np.arange(1, MSD_length)\n",
    "    y_bins = np.arange(0., 10.2, 0.6)\n",
    "    density_map = np.zeros((MSD_length, len(y_bins) - 1))\n",
    "    y = []\n",
    "    for i in range(1, MSD_length):\n",
    "        for d in MSD_list[i]:\n",
    "            if d == 0: \n",
    "                continue\n",
    "            ind_bin = ((np.log(d) - y_bins) > 0).sum() - 1\n",
    "            if ind_bin < density_map.shape[1] and ind_bin >= 0:\n",
    "                density_map[i][ind_bin] += 1\n",
    "        y.append((np.log(np.mean(MSD_list[i])) - y_bins[0])/(y_bins[1] - y_bins[0]))\n",
    "    density_map = density_map/density_map.sum(1, keepdims=True)\n",
    "    \n",
    "    fig = plt.figure()\n",
    "    ax = fig.add_subplot(121)\n",
    "    ax.imshow(np.transpose(density_map), cmap=cmap, origin='lower', vmin=0.01, vmax=0.3, alpha=0.5)\n",
    "    ax.plot(x, np.array(y) - 0.5, '.', c=cmap(0.8), markersize=2.5, label=label) # -0.5 is the adjustment for imshow\n",
    "    \n",
    "    reg = LinearRegression(fit_intercept=True).fit(np.log(x).reshape((-1, 1)), np.array(y))\n",
    "    y_pred = np.log(x) * reg.coef_ + reg.intercept_\n",
    "    ax.plot(x, y_pred - 0.5, '--', c=cmap(0.8), linewidth=0.8)\n",
    "    ax.legend()\n",
    "    \n",
    "    xticks = np.array([0.25, 0.5, 1, 2, 4]) # hour\n",
    "    xticks_positions = xticks / 0.1518\n",
    "    yticks = np.array([1, 10, 100, 1000, 10000]) # um^2\n",
    "    yticks_labels = ['10$^0$', '10$^1$', '10$^2$', '10$^3$', '10$^4$']\n",
    "    yticks_positions = (np.log(yticks) - y_bins[0])/(y_bins[1] - y_bins[0]) - 0.5 # same adjustment for imshow\n",
    "\n",
    "    ax.set_xlim(0.125 / 0.1518, 4.6 / 0.1518)\n",
    "    ax.set_xscale('log')\n",
    "    ax.set_xticks(xticks_positions)\n",
    "    ax.set_xticklabels(xticks)\n",
    "    ax.xaxis.set_minor_locator(NullLocator())\n",
    "    ax.set_yticks(yticks_positions)\n",
    "    ax.set_yticklabels(yticks_labels)\n",
    "    ax.set_xlabel('')\n",
    "    ax.set_ylabel('')\n",
    "    plt.tight_layout()\n",
    "\n",
    "# plt.clf()\n",
    "# plot_density_map(all_MSDs, cmap=cmaps['all'], label='All')\n",
    "# plt.savefig(\"MSD_all_trajs.png\", dpi=300)\n",
    "\n",
    "# for w, MSDs in well_MSDs.items():\n",
    "#     plt.clf()\n",
    "#     plot_density_map(MSDs, cmap=cmaps[w], label=legends[w])\n",
    "#     plt.savefig(\"MSD_%s_trajs.png\" % w, dpi=300)\n",
    "\n",
    "for i_c, MSDs in enumerate(center_MSDs):\n",
    "    plt.clf()\n",
    "    plot_density_map(MSDs, cmap=state_cmaps[i_c], label=\"State %d\" % (i_c + 1))\n",
    "    plt.savefig(\"MSD_state_%d_trajs.png\" % i_c, dpi=300)\n",
    "    plt.savefig(\"MSD_state_%d_trajs.eps\" % i_c)"
   ]
  },
  {
   "cell_type": "code",
   "execution_count": null,
   "metadata": {},
   "outputs": [],
   "source": []
  },
  {
   "cell_type": "code",
   "execution_count": null,
   "metadata": {},
   "outputs": [],
   "source": []
  },
  {
   "cell_type": "code",
   "execution_count": null,
   "metadata": {},
   "outputs": [],
   "source": []
  },
  {
   "cell_type": "code",
   "execution_count": null,
   "metadata": {},
   "outputs": [],
   "source": []
  },
  {
   "cell_type": "code",
   "execution_count": null,
   "metadata": {},
   "outputs": [],
   "source": []
  },
  {
   "cell_type": "code",
   "execution_count": 224,
   "metadata": {},
   "outputs": [],
   "source": [
    "### Generate Traj Vectors ###\n",
    "t_lag = 1\n",
    "traj_vector_latent_vector = {}\n",
    "traj_vector_motion = {}\n",
    "\n",
    "# full_dats = {}\n",
    "# for well in wells:\n",
    "#     path = os.path.join(raw_folder, '%s_latent_space.pkl' % well)\n",
    "#     full_dats[well] = pickle.load(open(path, 'rb'))\n",
    "\n",
    "# Use K-way vectors\n",
    "K = [5, 3, 1]\n",
    "feat_name = [[], []]\n",
    "write_feat_name = True\n",
    "for t in trajs:\n",
    "    well = t[:2]\n",
    "    if not well in wells:\n",
    "        continue\n",
    "    t_keys = sorted(trajs[t].keys())\n",
    "    traj_fs = [fs[well][ind] for ind in traj_inds[t]]\n",
    "    assert len(t_keys) == len(traj_fs)\n",
    "    dists = {}\n",
    "    dists_ang = {}\n",
    "    cell_ang = {}\n",
    "    for i, t_point in enumerate(t_keys):\n",
    "        if (t_point + t_lag) in t_keys:\n",
    "            d = traj_positions[t][t_point+t_lag] - traj_positions[t][t_point]\n",
    "            d_ang = cmath.polar(complex(d[1], d[0]))[1]\n",
    "            dists[t_point] = d\n",
    "            dists_ang[t_point] = d_ang\n",
    "            cell_ang[t_point] = cell_aps[traj_fs[i]][1]\n",
    "\n",
    "    #traj_full_dats = np.stack([full_dats[well][ind] for ind in traj_inds[t]], 0)\n",
    "    traj_full_dats = np.stack([dats[well][ind] for ind in traj_inds[t]], 0)\n",
    "    traj_vector_latent_vector[t] = []\n",
    "    traj_vector_motion[t] = []\n",
    "    for k in K:\n",
    "        segs = np.linspace(0, len(traj_full_dats), k+1).astype(int)\n",
    "        vs = []\n",
    "        ds = []\n",
    "        for i in range(len(segs) - 1):\n",
    "            v = traj_full_dats[segs[i]:segs[i+1]].mean(0)[:15]\n",
    "#             v = traj_full_dats[np.random.randint(segs[i], segs[i+1])]\n",
    "            vs.append(v)\n",
    "    \n",
    "            _d =  [dists[t_point] for t_point in t_keys[segs[i]:segs[i+1]] if t_point in dists]\n",
    "            _ang = [(dists_ang[t_point] - cell_ang[t_point]) % (np.pi) for t_point in t_keys[segs[i]:segs[i+1]] if t_point in dists]\n",
    "            mean_absolute_d = np.mean([np.linalg.norm(d, ord=2) for d in _d])\n",
    "            accumulate_d = np.linalg.norm(sum(_d), ord=2)\n",
    "            merged_x = sum([np.linalg.norm(d, ord=2) * np.cos(2 * ang) for d, ang in zip(_d, _ang)])\n",
    "            merged_y = sum([np.linalg.norm(d, ord=2) * np.sin(2 * ang) for d, ang in zip(_d, _ang)])\n",
    "            merged_d, merged_ang_diff = cmath.polar(complex(merged_x, merged_y))\n",
    "            ds.append([mean_absolute_d, accumulate_d, merged_d, merged_ang_diff])\n",
    "            \n",
    "            if write_feat_name:\n",
    "                feat_name[0].extend([\"PC%d_segment_%d_%d\" % (_+1, k, i) for _ in range(15)])\n",
    "                feat_name[1].extend(['MA_D_segment_%d_%d' % (k, i), \n",
    "                                     'ACC_D_segment_%d_%d' % (k, i),\n",
    "                                     'ANG_D_segment_%d_%d' % (k, i),\n",
    "                                     'ANG_segment_%d_%d' % (k, i)])\n",
    "        traj_vector_latent_vector[t].append(np.concatenate(vs))\n",
    "        traj_vector_motion[t].append(np.concatenate(ds))\n",
    "    traj_vector_latent_vector[t] = np.concatenate(traj_vector_latent_vector[t])\n",
    "    traj_vector_motion[t] = np.concatenate(traj_vector_motion[t])\n",
    "    if write_feat_name:\n",
    "        write_feat_name = False\n",
    "        feat_name = np.concatenate(feat_name)"
   ]
  },
  {
   "cell_type": "code",
   "execution_count": null,
   "metadata": {},
   "outputs": [],
   "source": []
  },
  {
   "cell_type": "code",
   "execution_count": 237,
   "metadata": {},
   "outputs": [
    {
     "name": "stdout",
     "output_type": "stream",
     "text": [
      "['B2', 'C5']\n",
      "0.7395195478097033\n"
     ]
    },
    {
     "data": {
      "text/plain": [
       "<Figure size 432x288 with 0 Axes>"
      ]
     },
     "metadata": {},
     "output_type": "display_data"
    },
    {
     "data": {
      "image/png": "[encoded data removed]",
      "text/plain": [
       "<Figure size 288x288 with 1 Axes>"
      ]
     },
     "metadata": {
      "needs_background": "light"
     },
     "output_type": "display_data"
    },
    {
     "name": "stdout",
     "output_type": "stream",
     "text": [
      "['B4', 'C5']\n",
      "0.7287157287157288\n"
     ]
    },
    {
     "data": {
      "text/plain": [
       "<Figure size 432x288 with 0 Axes>"
      ]
     },
     "metadata": {},
     "output_type": "display_data"
    },
    {
     "data": {
      "image/png": "[encoded data removed]",
      "text/plain": [
       "<Figure size 288x288 with 1 Axes>"
      ]
     },
     "metadata": {
      "needs_background": "light"
     },
     "output_type": "display_data"
    },
    {
     "name": "stdout",
     "output_type": "stream",
     "text": [
      "['B5', 'C5']\n",
      "0.8289131565262611\n"
     ]
    },
    {
     "data": {
      "text/plain": [
       "<Figure size 432x288 with 0 Axes>"
      ]
     },
     "metadata": {},
     "output_type": "display_data"
    },
    {
     "data": {
      "image/png": "[encoded data removed]",
      "text/plain": [
       "<Figure size 288x288 with 1 Axes>"
      ]
     },
     "metadata": {
      "needs_background": "light"
     },
     "output_type": "display_data"
    },
    {
     "name": "stdout",
     "output_type": "stream",
     "text": [
      "['B2', 'B4']\n",
      "0.6875\n"
     ]
    },
    {
     "data": {
      "text/plain": [
       "<Figure size 432x288 with 0 Axes>"
      ]
     },
     "metadata": {},
     "output_type": "display_data"
    },
    {
     "data": {
      "image/png": "[encoded data removed]",
      "text/plain": [
       "<Figure size 288x288 with 1 Axes>"
      ]
     },
     "metadata": {
      "needs_background": "light"
     },
     "output_type": "display_data"
    },
    {
     "name": "stdout",
     "output_type": "stream",
     "text": [
      "['B2', 'B5']\n",
      "0.7121026894865525\n"
     ]
    },
    {
     "data": {
      "text/plain": [
       "<Figure size 432x288 with 0 Axes>"
      ]
     },
     "metadata": {},
     "output_type": "display_data"
    },
    {
     "data": {
      "image/png": "[encoded data removed]",
      "text/plain": [
       "<Figure size 288x288 with 1 Axes>"
      ]
     },
     "metadata": {
      "needs_background": "light"
     },
     "output_type": "display_data"
    },
    {
     "name": "stdout",
     "output_type": "stream",
     "text": [
      "['B4', 'B5']\n",
      "0.6878140703517588\n"
     ]
    },
    {
     "data": {
      "text/plain": [
       "<Figure size 432x288 with 0 Axes>"
      ]
     },
     "metadata": {},
     "output_type": "display_data"
    },
    {
     "data": {
      "image/png": "[encoded data removed]",
      "text/plain": [
       "<Figure size 288x288 with 1 Axes>"
      ]
     },
     "metadata": {
      "needs_background": "light"
     },
     "output_type": "display_data"
    },
    {
     "name": "stdout",
     "output_type": "stream",
     "text": [
      "['B2', 'B4', 'C5']\n",
      "0.5825825825825826\n"
     ]
    },
    {
     "data": {
      "text/plain": [
       "<Figure size 432x288 with 0 Axes>"
      ]
     },
     "metadata": {},
     "output_type": "display_data"
    },
    {
     "data": {
      "image/png": "[encoded data removed]",
      "text/plain": [
       "<Figure size 288x288 with 1 Axes>"
      ]
     },
     "metadata": {
      "needs_background": "light"
     },
     "output_type": "display_data"
    },
    {
     "name": "stdout",
     "output_type": "stream",
     "text": [
      "['B2', 'B5', 'C5']\n",
      "0.6335797254487856\n"
     ]
    },
    {
     "data": {
      "text/plain": [
       "<Figure size 432x288 with 0 Axes>"
      ]
     },
     "metadata": {},
     "output_type": "display_data"
    },
    {
     "data": {
      "image/png": "[encoded data removed]",
      "text/plain": [
       "<Figure size 288x288 with 1 Axes>"
      ]
     },
     "metadata": {
      "needs_background": "light"
     },
     "output_type": "display_data"
    },
    {
     "name": "stdout",
     "output_type": "stream",
     "text": [
      "['B4', 'B5', 'C5']\n",
      "0.6195924204504827\n"
     ]
    },
    {
     "data": {
      "text/plain": [
       "<Figure size 432x288 with 0 Axes>"
      ]
     },
     "metadata": {},
     "output_type": "display_data"
    },
    {
     "data": {
      "image/png": "[encoded data removed]",
      "text/plain": [
       "<Figure size 288x288 with 1 Axes>"
      ]
     },
     "metadata": {
      "needs_background": "light"
     },
     "output_type": "display_data"
    },
    {
     "name": "stdout",
     "output_type": "stream",
     "text": [
      "['B2', 'B4', 'B5']\n",
      "0.5597609561752988\n"
     ]
    },
    {
     "data": {
      "text/plain": [
       "<Figure size 432x288 with 0 Axes>"
      ]
     },
     "metadata": {},
     "output_type": "display_data"
    },
    {
     "data": {
      "image/png": "[encoded data removed]",
      "text/plain": [
       "<Figure size 288x288 with 1 Axes>"
      ]
     },
     "metadata": {
      "needs_background": "light"
     },
     "output_type": "display_data"
    },
    {
     "name": "stdout",
     "output_type": "stream",
     "text": [
      "['B2', 'B4', 'B5', 'C5']\n",
      "0.5195154777927322\n"
     ]
    },
    {
     "data": {
      "text/plain": [
       "<Figure size 432x288 with 0 Axes>"
      ]
     },
     "metadata": {},
     "output_type": "display_data"
    },
    {
     "data": {
      "image/png": "[encoded data removed]",
      "text/plain": [
       "<Figure size 288x288 with 1 Axes>"
      ]
     },
     "metadata": {
      "needs_background": "light"
     },
     "output_type": "display_data"
    }
   ],
   "source": [
    "### Confusion Matrix ###\n",
    "from sklearn.ensemble import GradientBoostingClassifier, RandomForestClassifier\n",
    "from sklearn.svm import SVC \n",
    "from sklearn.neighbors import KNeighborsClassifier \n",
    "from sklearn.naive_bayes import GaussianNB \n",
    "from sklearn.metrics import confusion_matrix, accuracy_score\n",
    "#import xgboost\n",
    "\n",
    "def cross_validation(X, Y):\n",
    "    inds = np.arange(len(Y))\n",
    "    np.random.seed(122)\n",
    "    np.random.shuffle(inds)\n",
    "\n",
    "    valid_Ys = []\n",
    "    valid_y_preds = []\n",
    "    for i in range(10):\n",
    "        #print(i)\n",
    "        valid_inds = inds[int(0.1 * len(X) * i):int(0.1 * len(X) * (i+1))]\n",
    "        train_inds = np.array([i for i in inds if not i in valid_inds])\n",
    "        train_X = X[train_inds]\n",
    "        train_Y = Y[train_inds]\n",
    "        valid_X = X[valid_inds]\n",
    "        valid_Y = Y[valid_inds]\n",
    "\n",
    "        model = GradientBoostingClassifier(n_estimators=100)\n",
    "        #model = RandomForestClassifier(n_estimators=100)\n",
    "        #model = SVC(kernel = 'linear', C = 1)\n",
    "        #model = KNeighborsClassifier(n_neighbors = 10)\n",
    "        #model = GaussianNB()\n",
    "        #model = xgboost.XGBClassifier(n_estimators=100)\n",
    "        model.fit(train_X, train_Y)\n",
    "        valid_y_pred = model.predict(valid_X)\n",
    "        valid_Ys.append(valid_Y)\n",
    "        valid_y_preds.append(valid_y_pred)\n",
    "    valid_Ys = np.concatenate(valid_Ys)\n",
    "    valid_y_preds = np.concatenate(valid_y_preds)\n",
    "    return valid_Ys, valid_y_preds\n",
    "\n",
    "t_lag = 1\n",
    "traj_properties = {}\n",
    "\n",
    "well_orders = [['B2', 'C5'],\n",
    "               ['B4', 'C5'],\n",
    "               ['B5', 'C5'],\n",
    "               ['B2', 'B4'],\n",
    "               ['B2', 'B5'],\n",
    "               ['B4', 'B5'],\n",
    "               ['B2', 'B4', 'C5'],\n",
    "               ['B2', 'B5', 'C5'],\n",
    "               ['B4', 'B5', 'C5'],\n",
    "               ['B2', 'B4', 'B5'],\n",
    "               ['B2', 'B4', 'B5', 'C5']]\n",
    "for l, well_order in enumerate(well_orders):\n",
    "    print(well_order)\n",
    "    X = []\n",
    "    state_Y = []\n",
    "    well_Y = []\n",
    "    for i, t in enumerate(t_arrays):\n",
    "        well = t[:2]\n",
    "        if not well in well_order:\n",
    "            continue\n",
    "        X.append(np.concatenate([traj_vector_latent_vector[t], traj_vector_motion[t]]))\n",
    "        state_Y.append(np.argmax(prob_mat[i]))\n",
    "        well_Y.append(well_order.index(well))\n",
    "    X = np.array(X)\n",
    "    X[np.where(X != X)] = 0.\n",
    "    X = X/np.std(X, 0)\n",
    "    state_Y = np.array(state_Y)\n",
    "    well_Y = np.array(well_Y)\n",
    "\n",
    "    valid_Ys, valid_y_preds = cross_validation(X, well_Y)\n",
    "    plt.clf()\n",
    "    f = plt.figure(figsize=(4, 4))\n",
    "    print(accuracy_score(valid_Ys, valid_y_preds))\n",
    "    c_mat = confusion_matrix(valid_Ys, valid_y_preds)\n",
    "    r_mat = c_mat/c_mat.sum(1, keepdims=True)\n",
    "    plt.imshow(r_mat, cmap='Blues', vmin=0., vmax=0.9)\n",
    "    for i, row in enumerate(r_mat):\n",
    "        for j, val in enumerate(row):\n",
    "            c = 'w' if val >= 0.4 else 'k'\n",
    "            #plt.text(j-0.2, i-0.1, str(c_mat[i, j]), color=c)\n",
    "            plt.text(j-0.2, i+0.05, \"%.2f\" % val, color=c)\n",
    "    plt.xticks([i for i in range(len(well_order))], [legends[w] for w in well_order])\n",
    "    plt.yticks([i for i in range(len(well_order))], [legends[w] for w in well_order], rotation='vertical', va='center')\n",
    "    plt.show()\n",
    "    #plt.savefig('conf_mat/Confusion_mat_%d.png' % l, dpi=300)\n",
    "    # plt.xlabel('Predicted labels', fontsize=16)\n",
    "    # plt.ylabel('True labels', fontsize=16)\n",
    "    # plt.savefig('Confusion_mat_well.png', dpi=300)\n",
    "    # plt.savefig('Confusion_mat_well.eps')"
   ]
  },
  {
   "cell_type": "code",
   "execution_count": null,
   "metadata": {},
   "outputs": [],
   "source": []
  },
  {
   "cell_type": "code",
   "execution_count": null,
   "metadata": {},
   "outputs": [],
   "source": []
  },
  {
   "cell_type": "code",
   "execution_count": 206,
   "metadata": {},
   "outputs": [
    {
     "data": {
      "text/plain": [
       "RandomForestClassifier(bootstrap=True, class_weight=None, criterion='gini',\n",
       "            max_depth=None, max_features='auto', max_leaf_nodes=None,\n",
       "            min_impurity_decrease=0.0, min_impurity_split=None,\n",
       "            min_samples_leaf=1, min_samples_split=2,\n",
       "            min_weight_fraction_leaf=0.0, n_estimators=100, n_jobs=1,\n",
       "            oob_score=False, random_state=None, verbose=0,\n",
       "            warm_start=False)"
      ]
     },
     "execution_count": 206,
     "metadata": {},
     "output_type": "execute_result"
    }
   ],
   "source": [
    "model = RandomForestClassifier(n_estimators=100)\n",
    "model.fit(X, Y)\n",
    "for i in np.argsort(model.feature_importances_)[-10:]:\n",
    "    print(\"%s\\t\\t%f\" % (feat_name[i], model.feature_importances_[i]))"
   ]
  },
  {
   "cell_type": "code",
   "execution_count": null,
   "metadata": {},
   "outputs": [],
   "source": []
  },
  {
   "cell_type": "code",
   "execution_count": null,
   "metadata": {},
   "outputs": [],
   "source": []
  },
  {
   "cell_type": "code",
   "execution_count": 223,
   "metadata": {},
   "outputs": [
    {
     "name": "stdout",
     "output_type": "stream",
     "text": [
      "0\n",
      "1\n",
      "2\n",
      "3\n",
      "4\n",
      "5\n",
      "6\n",
      "7\n",
      "8\n",
      "9\n"
     ]
    },
    {
     "data": {
      "text/plain": [
       "([], <a list of 0 Text yticklabel objects>)"
      ]
     },
     "execution_count": 223,
     "metadata": {},
     "output_type": "execute_result"
    },
    {
     "data": {
      "image/png": "[encoded data removed]",
      "text/plain": [
       "<Figure size 144x144 with 1 Axes>"
      ]
     },
     "metadata": {},
     "output_type": "display_data"
    }
   ],
   "source": [
    "valid_Ys, valid_y_preds = cross_validation(X, state_Y)\n",
    "f = plt.figure(figsize=(2, 2))\n",
    "c_mat = confusion_matrix(valid_Ys, valid_y_preds)\n",
    "r_mat = c_mat/c_mat.sum(1, keepdims=True)\n",
    "plt.imshow(r_mat, cmap='Blues', vmin=0., vmax=0.9)\n",
    "for i, row in enumerate(r_mat):\n",
    "    for j, val in enumerate(row):\n",
    "        c = 'w' if val >= 0.4 else 'k'\n",
    "        #plt.text(j-0.2, i-0.1, str(c_mat[i, j]), color=c)\n",
    "        plt.text(j-0.2, i+0.05, \"%.2f\" % val, color=c)\n",
    "plt.xticks([])\n",
    "plt.yticks([])\n",
    "# plt.xlabel('Predicted labels', fontsize=16)\n",
    "# plt.ylabel('True labels', fontsize=16)\n",
    "# plt.savefig('Confusion_mat_state.png', dpi=300)\n",
    "# plt.savefig('Confusion_mat_state.eps')"
   ]
  },
  {
   "cell_type": "code",
   "execution_count": null,
   "metadata": {},
   "outputs": [],
   "source": []
  },
  {
   "cell_type": "code",
   "execution_count": null,
   "metadata": {},
   "outputs": [],
   "source": []
  },
  {
   "cell_type": "code",
   "execution_count": 364,
   "metadata": {},
   "outputs": [
    {
     "data": {
      "image/png": "[encoded data removed]",
      "text/plain": [
       "<Figure size 216x216 with 2 Axes>"
      ]
     },
     "metadata": {
      "needs_background": "light"
     },
     "output_type": "display_data"
    }
   ],
   "source": [
    "f = plt.figure(figsize=(3, 3))\n",
    "mat = plt.imshow(r_mat, cmap='Blues', vmin=0., vmax=0.9)\n",
    "plt.xticks([])\n",
    "plt.yticks([])\n",
    "cbar = f.colorbar(mat, extend='max')\n",
    "plt.savefig('Confusion_mat_cbar.eps')"
   ]
  },
  {
   "cell_type": "code",
   "execution_count": null,
   "metadata": {},
   "outputs": [],
   "source": []
  },
  {
   "cell_type": "code",
   "execution_count": null,
   "metadata": {},
   "outputs": [],
   "source": [
    "### Histogram of well orientations - patch level ###\n",
    "all_PC2 = np.concatenate([traj_PC2[w] for w in sorted(wells_)])\n",
    "all_speed = np.concatenate([traj_speed[w] for w in sorted(wells_)])\n",
    "speed_ticks = [4, 8, 16, 32, 64, 128]\n",
    "for i_w, well in enumerate(sorted(wells_)):\n",
    "    plt.clf()\n",
    "    f = plt.figure(figsize=(4, 3))\n",
    "    plt.plot(all_PC2, \n",
    "             all_speed, \n",
    "             '.', \n",
    "             c=(0.8, 0.8, 0.8), \n",
    "             markeredgecolor='none', \n",
    "             markersize=2.)\n",
    "    df = {'PC2': np.array(traj_PC2[well]),\n",
    "          'Speed': np.array(traj_speed[well]),\n",
    "          'State': traj_states[well]}\n",
    "    inds = [i for i, s in enumerate(df['State']) if s[0] > s[1]]\n",
    "    plt.plot(df['PC2'][inds],\n",
    "             df['Speed'][inds],\n",
    "             '.',\n",
    "             c=state_cmaps[0](0.8),\n",
    "             markeredgecolor='none', \n",
    "             markersize=3.)\n",
    "    inds = [i for i, s in enumerate(df['State']) if s[1] > s[0]]\n",
    "    plt.plot(df['PC2'][inds],\n",
    "             df['Speed'][inds],\n",
    "             '.',\n",
    "             c=state_cmaps[1](0.8),\n",
    "             markeredgecolor='none', \n",
    "             markersize=3.)\n",
    "    plt.gca().set_yticks(np.log(speed_ticks))\n",
    "    plt.gca().set_yticklabels(speed_ticks)\n",
    "    plt.savefig('NOVEMBER_clustering_%s.eps' % well)"
   ]
  },
  {
   "cell_type": "code",
   "execution_count": null,
   "metadata": {},
   "outputs": [],
   "source": [
    "np.stack(df['State']).sum(0)"
   ]
  },
  {
   "cell_type": "code",
   "execution_count": null,
   "metadata": {},
   "outputs": [],
   "source": []
  },
  {
   "cell_type": "code",
   "execution_count": null,
   "metadata": {},
   "outputs": [],
   "source": []
  },
  {
   "cell_type": "code",
   "execution_count": null,
   "metadata": {},
   "outputs": [],
   "source": []
  },
  {
   "cell_type": "code",
   "execution_count": null,
   "metadata": {},
   "outputs": [],
   "source": []
  },
  {
   "cell_type": "code",
   "execution_count": null,
   "metadata": {},
   "outputs": [],
   "source": []
  },
  {
   "cell_type": "code",
   "execution_count": null,
   "metadata": {},
   "outputs": [],
   "source": []
  },
  {
   "cell_type": "code",
   "execution_count": null,
   "metadata": {},
   "outputs": [],
   "source": []
  },
  {
   "cell_type": "code",
   "execution_count": null,
   "metadata": {},
   "outputs": [],
   "source": []
  },
  {
   "cell_type": "code",
   "execution_count": null,
   "metadata": {},
   "outputs": [],
   "source": []
  },
  {
   "cell_type": "code",
   "execution_count": null,
   "metadata": {},
   "outputs": [],
   "source": []
  },
  {
   "cell_type": "code",
   "execution_count": null,
   "metadata": {},
   "outputs": [],
   "source": []
  },
  {
   "cell_type": "code",
   "execution_count": null,
   "metadata": {},
   "outputs": [],
   "source": []
  },
  {
   "cell_type": "code",
   "execution_count": null,
   "metadata": {},
   "outputs": [],
   "source": []
  },
  {
   "cell_type": "code",
   "execution_count": null,
   "metadata": {},
   "outputs": [],
   "source": []
  },
  {
   "cell_type": "code",
   "execution_count": null,
   "metadata": {},
   "outputs": [],
   "source": []
  },
  {
   "cell_type": "code",
   "execution_count": null,
   "metadata": {},
   "outputs": [],
   "source": []
  },
  {
   "cell_type": "code",
   "execution_count": null,
   "metadata": {},
   "outputs": [],
   "source": [
    "# Supp Fig 5\n",
    "JUNE_data_dir =  '/gpfs/CompMicro/Projects/learningCellState/microglia/data_processed'\n",
    "JUNE_trajs = pickle.load(open(os.path.join(JUNE_data_dir, 'D_trajectories.pkl'), 'rb'))\n",
    "JUNE_dats = pickle.load(open(os.path.join(JUNE_data_dir, 'D_latent_space_PCAed.pkl'), 'rb'))\n",
    "\n",
    "JUNE_traj_PC1_diffs = []\n",
    "JUNE_traj_PC2_diffs = []\n",
    "JUNE_base_PC1_diffs = []\n",
    "JUNE_base_PC2_diffs = []\n",
    "\n",
    "for t in JUNE_trajs:\n",
    "    traj_PC1 = JUNE_dats[np.array(JUNE_trajs[t])][:, 0]\n",
    "    traj_PC2 = JUNE_dats[np.array(JUNE_trajs[t])][:, 1]\n",
    "    traj_PC1_diff = np.abs(traj_PC1[1:] - traj_PC1[:-1])\n",
    "    traj_PC2_diff = np.abs(traj_PC2[1:] - traj_PC2[:-1])\n",
    "    JUNE_traj_PC1_diffs.append(traj_PC1_diff)\n",
    "    JUNE_traj_PC2_diffs.append(traj_PC2_diff)\n",
    "    random_PC1 = JUNE_dats[np.random.choice(np.arange(JUNE_dats.shape[0]), \n",
    "                                            (len(JUNE_trajs[t]),), \n",
    "                                            replace=False), 0]\n",
    "    random_PC2 = JUNE_dats[np.random.choice(np.arange(JUNE_dats.shape[0]), \n",
    "                                            (len(JUNE_trajs[t]),), \n",
    "                                            replace=False), 1]\n",
    "    JUNE_base_PC1_diffs.append(np.abs(random_PC1[1:] - random_PC1[:-1]))\n",
    "    JUNE_base_PC2_diffs.append(np.abs(random_PC2[1:] - random_PC2[:-1]))\n",
    "JUNE_traj_PC1_diffs = np.concatenate(JUNE_traj_PC1_diffs)\n",
    "JUNE_traj_PC2_diffs = np.concatenate(JUNE_traj_PC2_diffs)\n",
    "JUNE_base_PC1_diffs = np.concatenate(JUNE_base_PC1_diffs)\n",
    "JUNE_base_PC2_diffs = np.concatenate(JUNE_base_PC2_diffs)\n",
    "\n",
    "NOVEMBER_traj_PC1_diffs = []\n",
    "NOVEMBER_traj_PC2_diffs = []\n",
    "NOVEMBER_base_PC1_diffs = []\n",
    "NOVEMBER_base_PC2_diffs = []\n",
    "for t in traj_inds:\n",
    "    well = t[:2]\n",
    "    traj_PC1 = dats[well][np.array(traj_inds[t])][:, 0]\n",
    "    traj_PC2 = dats[well][np.array(traj_inds[t])][:, 1]\n",
    "    traj_PC1_diff = np.abs(traj_PC1[1:] - traj_PC1[:-1])\n",
    "    traj_PC2_diff = np.abs(traj_PC2[1:] - traj_PC2[:-1])\n",
    "    NOVEMBER_traj_PC1_diffs.append(traj_PC1_diff)\n",
    "    NOVEMBER_traj_PC2_diffs.append(traj_PC2_diff)\n",
    "    random_PC1 = dats[well][np.random.choice(np.arange(dats[well].shape[0]), \n",
    "                                             (len(traj_inds[t]),), \n",
    "                                             replace=False), 0]\n",
    "    random_PC2 = dats[well][np.random.choice(np.arange(dats[well].shape[0]), \n",
    "                                             (len(traj_inds[t]),), \n",
    "                                             replace=False), 1]\n",
    "    NOVEMBER_base_PC1_diffs.append(np.abs(random_PC1[1:] - random_PC1[:-1]))\n",
    "    NOVEMBER_base_PC2_diffs.append(np.abs(random_PC2[1:] - random_PC2[:-1]))\n",
    "NOVEMBER_traj_PC1_diffs = np.concatenate(NOVEMBER_traj_PC1_diffs)\n",
    "NOVEMBER_traj_PC2_diffs = np.concatenate(NOVEMBER_traj_PC2_diffs)\n",
    "NOVEMBER_base_PC1_diffs = np.concatenate(NOVEMBER_base_PC1_diffs)\n",
    "NOVEMBER_base_PC2_diffs = np.concatenate(NOVEMBER_base_PC2_diffs)"
   ]
  },
  {
   "cell_type": "code",
   "execution_count": null,
   "metadata": {},
   "outputs": [],
   "source": [
    "\n",
    "line_JUNE = np.histogram(JUNE_traj_PC1_diffs, bins=np.arange(0, 8, 0.2), density=True)\n",
    "line_NOVEMBER = np.histogram(NOVEMBER_traj_PC1_diffs, bins=np.arange(0, 8, 0.2), density=True)\n",
    "line_base_JUNE = np.histogram(JUNE_base_PC1_diffs, bins=np.arange(0, 8, 0.2), density=True)\n",
    "line_base_NOVEMBER = np.histogram(NOVEMBER_base_PC1_diffs, bins=np.arange(0, 8, 0.2), density=True)\n",
    "\n",
    "plt.clf()\n",
    "plt.bar(line_JUNE[1][:-1]+0.1-0.06, line_JUNE[0], width=0.06, color=matplotlib.cm.get_cmap('Blues')(0.6), label='Train Set Trajectories')\n",
    "plt.bar(line_JUNE[1][:-1]+0.1+0.00, line_base_JUNE[0], width=0.06, color=matplotlib.cm.get_cmap('Greys')(0.5), label='Random Baseline')\n",
    "plt.legend(fontsize=16)\n",
    "plt.xlabel('PC1 diff', fontsize=16)\n",
    "plt.ylabel('Frequency', fontsize=16)\n",
    "plt.savefig(\"figS5_JUNE_PC1.eps\")\n",
    "\n",
    "plt.clf()\n",
    "plt.bar(line_JUNE[1][:-1]+0.1-0.06, line_NOVEMBER[0], width=0.06, color=matplotlib.cm.get_cmap('Reds')(0.6), label='Test Set Trajectories')\n",
    "plt.bar(line_JUNE[1][:-1]+0.1+0.00, line_base_NOVEMBER[0], width=0.06, color=matplotlib.cm.get_cmap('Greys')(0.5), label='Random Baseline')\n",
    "plt.legend(fontsize=16)\n",
    "plt.xlabel('PC1 diff', fontsize=16)\n",
    "plt.ylabel('Frequency', fontsize=16)\n",
    "plt.savefig(\"figS5_NOVEMBER_PC1.eps\")\n",
    "\n",
    "\n",
    "line_JUNE = np.histogram(JUNE_traj_PC2_diffs, bins=np.arange(0, 8, 0.2), density=True)\n",
    "line_NOVEMBER = np.histogram(NOVEMBER_traj_PC2_diffs, bins=np.arange(0, 8, 0.2), density=True)\n",
    "line_base_JUNE = np.histogram(JUNE_base_PC2_diffs, bins=np.arange(0, 8, 0.2), density=True)\n",
    "line_base_NOVEMBER = np.histogram(NOVEMBER_base_PC2_diffs, bins=np.arange(0, 8, 0.2), density=True)\n",
    "\n",
    "plt.clf()\n",
    "plt.bar(line_JUNE[1][:-1]+0.1-0.06, line_JUNE[0], width=0.06, color=matplotlib.cm.get_cmap('Blues')(0.6), label='Train Set Trajectories')\n",
    "plt.bar(line_JUNE[1][:-1]+0.1+0.00, line_base_JUNE[0], width=0.06, color=matplotlib.cm.get_cmap('Greys')(0.5), label='Random Baseline')\n",
    "plt.legend(fontsize=16)\n",
    "plt.xlabel('PC2 diff', fontsize=16)\n",
    "plt.ylabel('Frequency', fontsize=16)\n",
    "plt.savefig(\"figS5_JUNE_PC2.eps\")\n",
    "\n",
    "plt.clf()\n",
    "plt.bar(line_JUNE[1][:-1]+0.1-0.06, line_NOVEMBER[0], width=0.06, color=matplotlib.cm.get_cmap('Reds')(0.6), label='Test Set Trajectories')\n",
    "plt.bar(line_JUNE[1][:-1]+0.1+0.00, line_base_NOVEMBER[0], width=0.06, color=matplotlib.cm.get_cmap('Greys')(0.5), label='Random Baseline')\n",
    "plt.legend(fontsize=16)\n",
    "plt.xlabel('PC2 diff', fontsize=16)\n",
    "plt.ylabel('Frequency', fontsize=16)\n",
    "plt.savefig(\"figS5_NOVEMBER_PC2.eps\")"
   ]
  },
  {
   "cell_type": "code",
   "execution_count": null,
   "metadata": {},
   "outputs": [],
   "source": []
  },
  {
   "cell_type": "code",
   "execution_count": null,
   "metadata": {},
   "outputs": [],
   "source": [
    "# Supp Fig 2\n",
    "# Scatter plot between PC1 and size\n",
    "sizes = pickle.load(open(os.path.join(raw_folder, 'all_patches_cell_sizes.pkl'), 'rb'))\n",
    "densities = pickle.load(open(os.path.join(raw_folder, 'all_patches_cell_intensities.pkl'), 'rb'))\n",
    "\n",
    "all_fs = sum([fs[w] for w in wells], [])\n",
    "ss = np.log(np.array([sizes[f] for f in all_fs]))\n",
    "ds = np.array([densities[f][0][2] for f in all_fs])\n",
    "\n",
    "df = {'PC1': np.concatenate([patch_PC1[w] for w in wells]),\n",
    "      'PC2': np.concatenate([patch_PC2[w] for w in wells]),\n",
    "      'Size': ss,\n",
    "      'Peak Phase': ds}\n",
    "\n",
    "from scipy.stats import spearmanr\n",
    "print(spearmanr(df['Peak Phase'], df['PC2']))\n",
    "print(spearmanr(df['Size'], df['PC1']))\n",
    "print(spearmanr(df['Size'], df['PC2']))"
   ]
  },
  {
   "cell_type": "code",
   "execution_count": null,
   "metadata": {},
   "outputs": [],
   "source": [
    "\n",
    "sns.set_style('white')\n",
    "bins_y = np.linspace(6, 9.3, 20)\n",
    "bins_x = np.linspace(-6, 6, 20)\n",
    "plt.clf()\n",
    "g = sns.JointGrid(x='PC1', y='Size', data=df, ylim=(6, 9.3), xlim=(-6, 6))\n",
    "_ = g.ax_marg_x.hist(df['PC1'], bins=bins_x, color=matplotlib.cm.get_cmap('Blues')(0.5))\n",
    "_ = g.ax_marg_y.hist(df['Size'], bins=bins_y, orientation='horizontal', color=matplotlib.cm.get_cmap('Blues')(0.5))\n",
    "g.plot_joint(plt.hexbin, cmap=\"Blues\")\n",
    "y_ticks = np.array([500, 1000, 2000, 4000, 8000])\n",
    "g.ax_joint.set_yticks(np.log(y_ticks))\n",
    "g.ax_joint.set_yticklabels(y_ticks)\n",
    "g.set_axis_labels('PC1', 'Size', fontsize=16)\n",
    "plt.tight_layout()\n",
    "plt.savefig('NOVEMBER_joint_density_PC1_size.eps')\n",
    "#plt.savefig('/home/michaelwu/figs/supp_fig2_PC1_size.png', dpi=300)\n",
    "\n",
    "sns.set_style('white')\n",
    "bins_y = np.linspace(0.52, 0.8, 20)\n",
    "bins_x = np.linspace(-3, 8, 20)\n",
    "plt.clf()\n",
    "g = sns.JointGrid(x='PC2', y='Peak Phase', data=df, ylim=(0.52, 0.8), xlim=(-3, 8))\n",
    "_ = g.ax_marg_x.hist(df['PC2'], bins=bins_x, color=matplotlib.cm.get_cmap('Reds')(0.5))\n",
    "_ = g.ax_marg_y.hist(df['Peak Phase'], bins=bins_y, orientation='horizontal', color=matplotlib.cm.get_cmap('Reds')(0.5))\n",
    "g.plot_joint(plt.hexbin, cmap=\"Reds\")\n",
    "g.set_axis_labels('PC2', 'Peak Phase', fontsize=16)\n",
    "plt.tight_layout()\n",
    "plt.savefig('NOVEMBER_joint_density_PC2_density.eps')\n",
    "# plt.savefig('/home/michaelwu/figs/supp_fig2_PC2_density.png', dpi=300)"
   ]
  },
  {
   "cell_type": "code",
   "execution_count": null,
   "metadata": {},
   "outputs": [],
   "source": []
  },
  {
   "cell_type": "code",
   "execution_count": null,
   "metadata": {},
   "outputs": [],
   "source": [
    "# Supp Fig 4\n",
    "from scipy.stats import spearmanr, pearsonr\n",
    "sizes = pickle.load(open(os.path.join(raw_folder, 'all_patches_cell_sizes.pkl'), 'rb'))\n",
    "densities = pickle.load(open(os.path.join(raw_folder, 'all_patches_cell_intensities.pkl'), 'rb'))\n",
    "aps_nr = pickle.load(open(os.path.join(raw_folder, 'all_patches_cell_aspect_ratios_nr.pkl'), 'rb'))\n",
    "aps = pickle.load(open(os.path.join(raw_folder, 'all_patches_cell_aspect_ratios.pkl'), 'rb'))\n",
    "\n",
    "PCs = [np.concatenate([dats[well][:, i] for well in sorted(wells_)]) for i in range(6)]\n",
    "all_fs = sum([fs[w] for w in sorted(wells_)], [])\n",
    "Properties = [[np.log(sizes[f]) for f in all_fs],\n",
    "              [densities[f][0][2] for f in all_fs],\n",
    "              [densities[f][1][2] for f in all_fs],\n",
    "              [aps_nr[f][0]/aps_nr[f][1] for f in all_fs],\n",
    "              [aps[f][1] if aps[f][1] > 0 else aps[f][1] + np.pi for f in all_fs]]\n"
   ]
  },
  {
   "cell_type": "code",
   "execution_count": null,
   "metadata": {},
   "outputs": [],
   "source": [
    "sr_mat = np.zeros((len(PCs), len(Properties)))\n",
    "pr_mat = np.zeros((len(PCs), len(Properties)))\n",
    "for i, PC in enumerate(PCs):\n",
    "  for j, prop in enumerate(Properties):\n",
    "    sr_mat[i, j] = spearmanr(PC, prop).correlation\n",
    "    pr_mat[i, j] = pearsonr(PC, prop)[0]\n",
    "\n",
    "plt.clf()\n",
    "fig, ax = plt.subplots()\n",
    "cmap = matplotlib.cm.get_cmap('RdBu')\n",
    "im = ax.imshow(np.transpose(sr_mat), cmap=cmap, vmin=-1.5, vmax=1.5)\n",
    "\n",
    "ax.set_xticks(np.arange(len(PCs)))\n",
    "ax.set_yticks(np.arange(len(Properties)))\n",
    "ax.set_xticklabels(['PC1', 'PC2', 'PC3', 'PC4', 'PC5', 'PC6'])\n",
    "ax.set_yticklabels(['Size', 'Peak Phase', 'Peak Retardance', 'Aspect Ratio', 'Angle (Long axis)'])\n",
    "for i in range(len(PCs)):\n",
    "  for j in range(len(Properties)):\n",
    "    text = ax.text(i, j, \"%.2f\" % sr_mat[i, j], ha=\"center\", va=\"center\", color=\"k\")\n",
    "plt.tight_layout()\n",
    "# plt.show()\n",
    "plt.savefig('NOVEMBER_correlations.eps')\n",
    "plt.savefig('NOVEMBER_correlations.png', dpi=300)"
   ]
  },
  {
   "cell_type": "code",
   "execution_count": null,
   "metadata": {},
   "outputs": [],
   "source": []
  },
  {
   "cell_type": "code",
   "execution_count": null,
   "metadata": {},
   "outputs": [],
   "source": [
    "# Supp Fig 7\n",
    "JUNE_data_dir =  '/gpfs/CompMicro/Projects/learningCellState/microglia/data_processed'\n",
    "JUNE_dats = pickle.load(open(os.path.join(JUNE_data_dir, 'D_latent_space_PCAed.pkl'), 'rb'))\n",
    "JUNE_fs = sorted(pickle.load(open(os.path.join(JUNE_data_dir, 'D_file_paths.pkl'), 'rb')))\n",
    "JUNE_sizes = pickle.load(open('/gpfs/CompMicro/Projects/CellVAE/Data/EncodedSizes.pkl', 'rb'))\n",
    "ss = [JUNE_sizes[f][0] for f in JUNE_fs]\n",
    "cmap = matplotlib.cm.get_cmap('BuPu')  \n",
    "range_min = np.log(min(ss))\n",
    "range_max = np.log(max(ss))\n",
    "JUNE_colors = [cmap(((np.log(s) - range_min)/(range_max - range_min))**1.5) for s in ss]\n",
    "\n",
    "NOVEMBER_dats = np.concatenate([dats[w] for w in sorted(wells_)])\n",
    "NOVEMBER_fs = np.concatenate([fs[w] for w in sorted(wells_)])\n",
    "NOVEMBER_sizes = pickle.load(open(os.path.join(raw_folder, 'all_patches_cell_sizes.pkl'), 'rb'))\n",
    "ss = [NOVEMBER_sizes[f] for f in NOVEMBER_fs]\n",
    "NOVEMBER_colors = [cmap(((np.log(s) - range_min)/(range_max - range_min))**1.5) for s in ss]\n",
    "\n",
    "with open('temp_save.pkl', 'wb') as f:\n",
    "    pickle.dump([JUNE_dats, JUNE_colors, NOVEMBER_dats, NOVEMBER_colors], f)\n",
    "    \n",
    "# Below need to be run on x86 linux\n",
    "import umap\n",
    "import matplotlib.pyplot as plt\n",
    "import pickle\n",
    "JUNE_dats, JUNE_colors, NOVEMBER_dats, NOVEMBER_colors = pickle.load(open('temp_save.pkl', 'rb'))\n",
    "reducer = umap.UMAP()\n",
    "JUNE_embedding = reducer.fit_transform(JUNE_dats)\n",
    "NOVEMBER_embedding = reducer.transform(NOVEMBER_dats)\n",
    "plt.clf()\n",
    "plt.scatter(JUNE_embedding[:, 0], JUNE_embedding[:, 1], c=JUNE_colors, s=0.5, edgecolors='none')\n",
    "plt.xlim(-6, 7)\n",
    "plt.ylim(-7, 7.5)\n",
    "plt.savefig('JUNE_UMAP.eps')\n",
    "plt.savefig('JUNE_UMAP.png', dpi=300)\n",
    "plt.clf()\n",
    "plt.scatter(NOVEMBER_embedding[:, 0], NOVEMBER_embedding[:, 1], c=NOVEMBER_colors, s=0.5, edgecolors='none')\n",
    "plt.xlim(-6, 7)\n",
    "plt.ylim(-7, 7.5)\n",
    "plt.savefig('NOVEMBER_UMAP.eps')\n",
    "plt.savefig('NOVEMBER_UMAP.png', dpi=300)"
   ]
  },
  {
   "cell_type": "code",
   "execution_count": null,
   "metadata": {},
   "outputs": [],
   "source": []
  },
  {
   "cell_type": "code",
   "execution_count": null,
   "metadata": {},
   "outputs": [],
   "source": [
    "NOVEMBER_dats = np.concatenate([dats[w] for w in sorted(wells_)])\n",
    "NOVEMBER_fs = np.concatenate([fs[w] for w in sorted(wells_)])\n",
    "NOVEMBER_sizes = pickle.load(open(os.path.join(raw_folder, 'all_patches_cell_sizes.pkl'), 'rb'))\n",
    "ss = [NOVEMBER_sizes[f] for f in NOVEMBER_fs]\n",
    "cmap = matplotlib.cm.get_cmap('BuPu')\n",
    "range_min = np.log(min(ss))\n",
    "range_max = np.log(max(ss))\n",
    "NOVEMBER_colors = [cmap(((np.log(s) - range_min)/(range_max - range_min))**1.5) for s in ss]"
   ]
  },
  {
   "cell_type": "code",
   "execution_count": null,
   "metadata": {},
   "outputs": [],
   "source": [
    "import umap\n",
    "import matplotlib.pyplot as plt\n",
    "import pickle\n",
    "#reducer = umap.UMAP()\n",
    "#NOVEMBER_embedding = reducer.fit_transform(NOVEMBER_dats)\n",
    "plt.clf()\n",
    "plt.scatter(NOVEMBER_embedding[:, 0], NOVEMBER_embedding[:, 1], c=NOVEMBER_colors, s=0.5, edgecolors='none')\n",
    "plt.show()\n",
    "#plt.xlim(-6, 7)\n",
    "#plt.ylim(-7, 7.5)\n",
    "#plt.savefig('NOVEMBER_UMAP.eps')\n",
    "#plt.savefig('NOVEMBER_UMAP.png', dpi=300)"
   ]
  },
  {
   "cell_type": "code",
   "execution_count": null,
   "metadata": {},
   "outputs": [],
   "source": []
  },
  {
   "cell_type": "code",
   "execution_count": null,
   "metadata": {},
   "outputs": [],
   "source": []
  },
  {
   "cell_type": "code",
   "execution_count": null,
   "metadata": {},
   "outputs": [],
   "source": []
  },
  {
   "cell_type": "code",
   "execution_count": null,
   "metadata": {},
   "outputs": [],
   "source": []
  },
  {
   "cell_type": "code",
   "execution_count": null,
   "metadata": {},
   "outputs": [],
   "source": []
  },
  {
   "cell_type": "code",
   "execution_count": null,
   "metadata": {},
   "outputs": [],
   "source": [
    "# Extra data on test set reconstruction error\n",
    "model = VQ_VAE(alpha=0.0005, gpu=True)\n",
    "model = model.cuda()\n",
    "model.load_state_dict(torch.load('HiddenStateExtractor/save_0005_bkp4.pt'))\n",
    "\n",
    "test_r_losses = []\n",
    "for k in np.random.choice(list(all_patches.keys()), (5000,), replace=False):\n",
    "  sample = all_patches[k]\n",
    "  sample = sample.cuda()\n",
    "  output, loss = model.forward(sample)\n",
    "  r_loss = loss['recon_loss']\n",
    "  test_r_losses.append(r_loss.data.cpu().numpy())\n",
    "\n",
    "print(np.mean(test_r_losses))\n",
    "print(np.std(test_r_losses))"
   ]
  },
  {
   "cell_type": "code",
   "execution_count": null,
   "metadata": {},
   "outputs": [],
   "source": []
  },
  {
   "cell_type": "code",
   "execution_count": null,
   "metadata": {},
   "outputs": [],
   "source": []
  },
  {
   "cell_type": "code",
   "execution_count": null,
   "metadata": {},
   "outputs": [],
   "source": []
  },
  {
   "cell_type": "code",
   "execution_count": null,
   "metadata": {},
   "outputs": [],
   "source": []
  },
  {
   "cell_type": "code",
   "execution_count": null,
   "metadata": {},
   "outputs": [],
   "source": [
    "# Save trajectory videos\n",
    "traj_samples = ['B2-Site_0/35',\n",
    "                'C4-Site_2/189',\n",
    "                'B2-Site_5/21',\n",
    "                'C4-Site_2/3']\n",
    "\n",
    "for t in traj_samples:\n",
    "    save_traj_bbox(t, 'supp_video_PCA_test_sample_bbox_%s.gif' % t.replace('/', '_'))\n",
    "    save_movie(t, 'supp_video_PCA_test_sample_movie_%s.gif' % t.replace('/', '_'))"
   ]
  },
  {
   "cell_type": "code",
   "execution_count": null,
   "metadata": {},
   "outputs": [],
   "source": [
    "ts_of_I = [\n",
    "    'B2-Site_0/11', 'B2-Site_0/35', 'B2-Site_0/40', 'B2-Site_0/45', 'B2-Site_0/48', 'B2-Site_0/221',\n",
    "    'B2-Site_1/74', 'B2-Site_2/9', 'B2-Site_5/35', 'B2-Site_5/125',\n",
    "    'B4-Site_0/67', 'B4-Site_6/65',\n",
    "    'B5-Site_7/3',\n",
    "    'C4-Site_0/49', 'C4-Site_0/77', 'C4-Site_2/51', 'C4-Site_2/52', 'C4-Site_2/53', 'C4-Site_2/59',\n",
    "    'C4-Site_2/149', 'C4-Site_2/189', 'C4-Site_3/109', 'C5-Site_3/22'\n",
    "]\n",
    "\n",
    "X = []\n",
    "Y = []\n",
    "names = []\n",
    "t_lag = 1\n",
    "len_segment = 15\n",
    "for t in ts_of_I:\n",
    "    well = t[:2]\n",
    "    if not well in wells_:\n",
    "        continue\n",
    "    t_keys = sorted(trajs[t].keys())\n",
    "    dists = []\n",
    "    for t_point in t_keys:\n",
    "        if (t_point + t_lag) in t_keys:\n",
    "            d = np.linalg.norm(traj_positions[t][t_point+t_lag] - \\\n",
    "                               traj_positions[t][t_point], ord=2)\n",
    "            dists.append(d)\n",
    "    traj_PC = [dats[well][ind] for ind in traj_inds[t]]\n",
    "    traj_dist = dists\n",
    "    \n",
    "    if len(traj_inds[t]) > 3*len_segment:\n",
    "        n_segment = len(traj_inds[t]) // len_segment\n",
    "        for i in range(n_segment):\n",
    "            x = np.concatenate([\n",
    "                np.array(np.log(np.mean(traj_dist[i*len_segment:(i+1)*len_segment]) * 0.325 / 0.1518)).reshape((-1,)),\n",
    "                np.mean(traj_PC[i*len_segment:(i+1)*len_segment], 0)])\n",
    "            y = sorted(wells_).index(well)\n",
    "            X.append(x)\n",
    "            Y.append(y)\n",
    "            names.append('%s_segment_%d' % (t, i))\n",
    "\n",
    "X = np.array(X)\n",
    "Y = np.array(Y)\n",
    "stds = [0.85*std_unit for c in centers]\n",
    "prob_mat = get_merged_prob_mat(X, Y, centers, stds, well_prob_mat)\n",
    "\n",
    "d = {}\n",
    "for n, state in zip(names, np.argmax(prob_mat, 1)):\n",
    "    t = '_'.join(n.split('_')[:2])\n",
    "    if not t in d:\n",
    "        d[t] = []\n",
    "    d[t].append(state)\n",
    "\n",
    "ts_plotted = [t for t in d if len(set(d[t])) > 1]\n",
    "for t in ts_plotted:\n",
    "    save_traj_bbox(t, 'supp_video_state_transition_bbox_%s.gif' % t.replace('/', '_'))\n",
    "    save_movie(t, 'supp_video_state_transition_movie_%s.gif' % t.replace('/', '_'))"
   ]
  },
  {
   "cell_type": "code",
   "execution_count": null,
   "metadata": {},
   "outputs": [],
   "source": []
  },
  {
   "cell_type": "code",
   "execution_count": 45,
   "metadata": {},
   "outputs": [],
   "source": [
    "ts_of_I = [t for t in trajs if t.startswith('B2')]\n",
    "\n",
    "X = []\n",
    "Y = []\n",
    "names = []\n",
    "t_lag = 1\n",
    "len_segment = 15\n",
    "for t in ts_of_I:\n",
    "    well = t[:2]\n",
    "    if not well in wells_:\n",
    "        continue\n",
    "    t_keys = sorted(trajs[t].keys())\n",
    "    dists = []\n",
    "    for t_point in t_keys:\n",
    "        if (t_point + t_lag) in t_keys:\n",
    "            d = np.linalg.norm(traj_positions[t][t_point+t_lag] - \\\n",
    "                               traj_positions[t][t_point], ord=2)\n",
    "            dists.append(d)\n",
    "    traj_PC = [dats[well][ind] for ind in traj_inds[t]]\n",
    "    traj_dist = dists\n",
    "    \n",
    "    if len(traj_inds[t]) > 3*len_segment:\n",
    "        n_segment = len(traj_inds[t]) // len_segment\n",
    "        for i in range(n_segment):\n",
    "            x = np.concatenate([\n",
    "                np.array(np.log(np.mean(traj_dist[i*len_segment:(i+1)*len_segment]) * 0.325 / 0.1518)).reshape((-1,)),\n",
    "                np.mean(traj_PC[i*len_segment:(i+1)*len_segment], 0)])\n",
    "            y = sorted(wells_).index(well)\n",
    "            X.append(x)\n",
    "            Y.append(y)\n",
    "            names.append('%s_segment_%d' % (t, i))\n",
    "\n",
    "X = np.array(X)\n",
    "Y = np.array(Y)\n",
    "stds = [0.85*std_unit for c in centers]\n",
    "prob_mat = get_merged_prob_mat(X, Y, centers, stds, well_prob_mat)\n",
    "\n",
    "d = {}\n",
    "for n, state in zip(names, np.argmax(prob_mat, 1)):\n",
    "    t = '_'.join(n.split('_')[:2])\n",
    "    if not t in d:\n",
    "        d[t] = []\n",
    "    d[t].append(state)"
   ]
  },
  {
   "cell_type": "code",
   "execution_count": 51,
   "metadata": {},
   "outputs": [
    {
     "data": {
      "text/plain": [
       "39"
      ]
     },
     "execution_count": 51,
     "metadata": {},
     "output_type": "execute_result"
    }
   ],
   "source": [
    "ts_plotted = {t: d[t] for t in d if len(set(d[t])) > 1}\n",
    "ts_plotted = {t: d[t] for t in ts_plotted if d[t][0] == 1 and d[t][-1] == 0}\n",
    "len(ts_plotted)"
   ]
  },
  {
   "cell_type": "code",
   "execution_count": null,
   "metadata": {},
   "outputs": [],
   "source": []
  },
  {
   "cell_type": "code",
   "execution_count": 52,
   "metadata": {},
   "outputs": [],
   "source": [
    "for t in ts_plotted:\n",
    "    save_traj_bbox(t, 'supp_video_state_transition_bbox_%s.gif' % t.replace('/', '_'))\n",
    "    save_movie(t, 'supp_video_state_transition_movie_%s.gif' % t.replace('/', '_'))"
   ]
  },
  {
   "cell_type": "code",
   "execution_count": null,
   "metadata": {},
   "outputs": [],
   "source": []
  }
 ],
 "metadata": {
  "kernelspec": {
   "display_name": "Python 3",
   "language": "python",
   "name": "python3"
  },
  "language_info": {
   "codemirror_mode": {
    "name": "ipython",
    "version": 3
   },
   "file_extension": ".py",
   "mimetype": "text/x-python",
   "name": "python",
   "nbconvert_exporter": "python",
   "pygments_lexer": "ipython3",
   "version": "3.6.10"
  },
  "pycharm": {
   "stem_cell": {
    "cell_type": "raw",
    "source": [],
    "metadata": {
     "collapsed": false
    }
   }
  }
 },
 "nbformat": 4,
 "nbformat_minor": 4
}